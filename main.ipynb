{
  "nbformat": 4,
  "nbformat_minor": 0,
  "metadata": {
    "colab": {
      "name": "main.ipynb",
      "provenance": [],
      "collapsed_sections": []
    },
    "kernelspec": {
      "name": "python3",
      "display_name": "Python 3"
    }
  },
  "cells": [
    {
      "cell_type": "markdown",
      "metadata": {
        "id": "yTYzZ-z3VVlT"
      },
      "source": [
        "# Hello, world"
      ]
    },
    {
      "cell_type": "code",
      "metadata": {
        "id": "2TlgPZilVIJJ",
        "outputId": "75a7fca2-b9a8-43fa-d067-030b62d84987",
        "colab": {
          "base_uri": "https://localhost:8080/"
        }
      },
      "source": [
        "print(\"Hello, world\")"
      ],
      "execution_count": 1,
      "outputs": [
        {
          "output_type": "stream",
          "text": [
            "Hello, world\n"
          ],
          "name": "stdout"
        }
      ]
    }
  ]
}