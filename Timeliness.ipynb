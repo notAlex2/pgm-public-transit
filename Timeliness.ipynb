{
  "nbformat": 4,
  "nbformat_minor": 0,
  "metadata": {
    "colab": {
      "name": "Timeliness.ipynb",
      "provenance": [],
      "collapsed_sections": [],
      "toc_visible": true,
      "include_colab_link": true
    },
    "kernelspec": {
      "name": "python3",
      "display_name": "Python 3"
    }
  },
  "cells": [
    {
      "cell_type": "markdown",
      "metadata": {
        "id": "view-in-github",
        "colab_type": "text"
      },
      "source": [
        "<a href=\"https://colab.research.google.com/github/remidion/PGM-Project/blob/main/Timeliness.ipynb\" target=\"_parent\"><img src=\"https://colab.research.google.com/assets/colab-badge.svg\" alt=\"Open In Colab\"/></a>"
      ]
    },
    {
      "cell_type": "markdown",
      "metadata": {
        "id": "9YFa8mQsDgEI"
      },
      "source": [
        "[![Open In Colab](https://colab.research.google.com/assets/colab-badge.svg)](https://colab.research.google.com/github/remidion/PGM-Project/blob/main/main.ipynb)"
      ]
    },
    {
      "cell_type": "code",
      "metadata": {
        "id": "Jq2pWfXw5gnj"
      },
      "source": [
        "# Imports\n",
        "from getpass import getpass\n",
        "import pandas as pd\n",
        "import os\n",
        "import numpy as np\n",
        "import matplotlib\n",
        "import matplotlib.pyplot as plt"
      ],
      "execution_count": 56,
      "outputs": []
    },
    {
      "cell_type": "code",
      "metadata": {
        "colab": {
          "base_uri": "https://localhost:8080/"
        },
        "id": "lSQJjVy31AAV",
        "outputId": "75dc6702-a1d1-4023-d2e1-ed1d5ab6edec"
      },
      "source": [
        "if os.path.exists('PGM-Project'):\r\n",
        "  !git -C PGM-Project/ pull\r\n",
        "else:\r\n",
        "  u = input('GitHub username: ')\r\n",
        "  p = getpass('GitHub password: ')\r\n",
        "  !git clone https://$u:$p@github.com/remidion/PGM-Project.git\r\n",
        "  del u, p"
      ],
      "execution_count": 57,
      "outputs": [
        {
          "output_type": "stream",
          "text": [
            "remote: Enumerating objects: 5, done.\u001b[K\n",
            "remote: Counting objects:  20% (1/5)\u001b[K\rremote: Counting objects:  40% (2/5)\u001b[K\rremote: Counting objects:  60% (3/5)\u001b[K\rremote: Counting objects:  80% (4/5)\u001b[K\rremote: Counting objects: 100% (5/5)\u001b[K\rremote: Counting objects: 100% (5/5), done.\u001b[K\n",
            "remote: Compressing objects:  33% (1/3)\u001b[K\rremote: Compressing objects:  66% (2/3)\u001b[K\rremote: Compressing objects: 100% (3/3)\u001b[K\rremote: Compressing objects: 100% (3/3), done.\u001b[K\n",
            "remote: Total 3 (delta 2), reused 0 (delta 0), pack-reused 0\u001b[K\n",
            "Unpacking objects:  33% (1/3)   \rUnpacking objects:  66% (2/3)   \rUnpacking objects: 100% (3/3)   \rUnpacking objects: 100% (3/3), done.\n",
            "From https://github.com/remidion/PGM-Project\n",
            "   528f7b8..ce6d9a6  main       -> origin/main\n",
            "Updating 528f7b8..ce6d9a6\n",
            "Fast-forward\n",
            " Timeliness.ipynb | 160 \u001b[32m++++++++++++++++++++++++++++++\u001b[m\u001b[31m-------------------------\u001b[m\n",
            " 1 file changed, 86 insertions(+), 74 deletions(-)\n"
          ],
          "name": "stdout"
        }
      ]
    },
    {
      "cell_type": "markdown",
      "metadata": {
        "id": "2nrxYM6VzV26"
      },
      "source": [
        "# Load Data"
      ]
    },
    {
      "cell_type": "code",
      "metadata": {
        "colab": {
          "base_uri": "https://localhost:8080/",
          "height": 481
        },
        "id": "RT4KSE3IzUT7",
        "outputId": "c6af170a-d8f6-4f82-dd28-9edd0d45b8f4"
      },
      "source": [
        "out_df = pd.read_csv(\"PGM-Project/data/route_01_full.csv\", index_col=[0,1], header=[0,1])\r\n",
        "out_df"
      ],
      "execution_count": null,
      "outputs": [
        {
          "output_type": "execute_result",
          "data": {
            "text/html": [
              "<div>\n",
              "<style scoped>\n",
              "    .dataframe tbody tr th:only-of-type {\n",
              "        vertical-align: middle;\n",
              "    }\n",
              "\n",
              "    .dataframe tbody tr th {\n",
              "        vertical-align: top;\n",
              "    }\n",
              "\n",
              "    .dataframe thead tr th {\n",
              "        text-align: left;\n",
              "    }\n",
              "\n",
              "    .dataframe thead tr:last-of-type th {\n",
              "        text-align: right;\n",
              "    }\n",
              "</style>\n",
              "<table border=\"1\" class=\"dataframe\">\n",
              "  <thead>\n",
              "    <tr>\n",
              "      <th></th>\n",
              "      <th></th>\n",
              "      <th colspan=\"9\" halign=\"left\">scheduled</th>\n",
              "      <th colspan=\"9\" halign=\"left\">timeliness</th>\n",
              "    </tr>\n",
              "    <tr>\n",
              "      <th></th>\n",
              "      <th>stop_sequence</th>\n",
              "      <th>1.0</th>\n",
              "      <th>2.0</th>\n",
              "      <th>3.0</th>\n",
              "      <th>4.0</th>\n",
              "      <th>5.0</th>\n",
              "      <th>6.0</th>\n",
              "      <th>7.0</th>\n",
              "      <th>8.0</th>\n",
              "      <th>9.0</th>\n",
              "      <th>1.0</th>\n",
              "      <th>2.0</th>\n",
              "      <th>3.0</th>\n",
              "      <th>4.0</th>\n",
              "      <th>5.0</th>\n",
              "      <th>6.0</th>\n",
              "      <th>7.0</th>\n",
              "      <th>8.0</th>\n",
              "      <th>9.0</th>\n",
              "    </tr>\n",
              "    <tr>\n",
              "      <th>service_date</th>\n",
              "      <th>route_start_time</th>\n",
              "      <th></th>\n",
              "      <th></th>\n",
              "      <th></th>\n",
              "      <th></th>\n",
              "      <th></th>\n",
              "      <th></th>\n",
              "      <th></th>\n",
              "      <th></th>\n",
              "      <th></th>\n",
              "      <th></th>\n",
              "      <th></th>\n",
              "      <th></th>\n",
              "      <th></th>\n",
              "      <th></th>\n",
              "      <th></th>\n",
              "      <th></th>\n",
              "      <th></th>\n",
              "      <th></th>\n",
              "    </tr>\n",
              "  </thead>\n",
              "  <tbody>\n",
              "    <tr>\n",
              "      <th rowspan=\"5\" valign=\"top\">2018-08-02</th>\n",
              "      <th>1900-01-01 05:10:00</th>\n",
              "      <td>18600.0</td>\n",
              "      <td>18780.0</td>\n",
              "      <td>18960.0</td>\n",
              "      <td>19140.0</td>\n",
              "      <td>19320.0</td>\n",
              "      <td>19500.0</td>\n",
              "      <td>19680.0</td>\n",
              "      <td>19920.0</td>\n",
              "      <td>19980.0</td>\n",
              "      <td>On Time</td>\n",
              "      <td>On Time</td>\n",
              "      <td>On Time</td>\n",
              "      <td>Late</td>\n",
              "      <td>Late</td>\n",
              "      <td>Late</td>\n",
              "      <td>Late</td>\n",
              "      <td>Late</td>\n",
              "      <td>Late</td>\n",
              "    </tr>\n",
              "    <tr>\n",
              "      <th>1900-01-01 05:30:00</th>\n",
              "      <td>19800.0</td>\n",
              "      <td>19980.0</td>\n",
              "      <td>20160.0</td>\n",
              "      <td>20340.0</td>\n",
              "      <td>20520.0</td>\n",
              "      <td>20700.0</td>\n",
              "      <td>20880.0</td>\n",
              "      <td>21120.0</td>\n",
              "      <td>21180.0</td>\n",
              "      <td>On Time</td>\n",
              "      <td>On Time</td>\n",
              "      <td>On Time</td>\n",
              "      <td>Late</td>\n",
              "      <td>Late</td>\n",
              "      <td>Late</td>\n",
              "      <td>Late</td>\n",
              "      <td>Late</td>\n",
              "      <td>Late</td>\n",
              "    </tr>\n",
              "    <tr>\n",
              "      <th>1900-01-01 05:50:00</th>\n",
              "      <td>21000.0</td>\n",
              "      <td>21180.0</td>\n",
              "      <td>21360.0</td>\n",
              "      <td>21540.0</td>\n",
              "      <td>21720.0</td>\n",
              "      <td>21900.0</td>\n",
              "      <td>22080.0</td>\n",
              "      <td>22320.0</td>\n",
              "      <td>22380.0</td>\n",
              "      <td>On Time</td>\n",
              "      <td>On Time</td>\n",
              "      <td>On Time</td>\n",
              "      <td>On Time</td>\n",
              "      <td>On Time</td>\n",
              "      <td>On Time</td>\n",
              "      <td>Late</td>\n",
              "      <td>Late</td>\n",
              "      <td>Late</td>\n",
              "    </tr>\n",
              "    <tr>\n",
              "      <th>1900-01-01 06:06:00</th>\n",
              "      <td>21960.0</td>\n",
              "      <td>22140.0</td>\n",
              "      <td>22320.0</td>\n",
              "      <td>22500.0</td>\n",
              "      <td>22680.0</td>\n",
              "      <td>22860.0</td>\n",
              "      <td>23040.0</td>\n",
              "      <td>23280.0</td>\n",
              "      <td>23340.0</td>\n",
              "      <td>On Time</td>\n",
              "      <td>On Time</td>\n",
              "      <td>On Time</td>\n",
              "      <td>On Time</td>\n",
              "      <td>Late</td>\n",
              "      <td>Late</td>\n",
              "      <td>Late</td>\n",
              "      <td>Late</td>\n",
              "      <td>Late</td>\n",
              "    </tr>\n",
              "    <tr>\n",
              "      <th>1900-01-01 06:21:00</th>\n",
              "      <td>22860.0</td>\n",
              "      <td>23040.0</td>\n",
              "      <td>23220.0</td>\n",
              "      <td>23400.0</td>\n",
              "      <td>23700.0</td>\n",
              "      <td>23940.0</td>\n",
              "      <td>24120.0</td>\n",
              "      <td>24540.0</td>\n",
              "      <td>24600.0</td>\n",
              "      <td>On Time</td>\n",
              "      <td>On Time</td>\n",
              "      <td>On Time</td>\n",
              "      <td>On Time</td>\n",
              "      <td>On Time</td>\n",
              "      <td>On Time</td>\n",
              "      <td>On Time</td>\n",
              "      <td>On Time</td>\n",
              "      <td>On Time</td>\n",
              "    </tr>\n",
              "    <tr>\n",
              "      <th>...</th>\n",
              "      <th>...</th>\n",
              "      <td>...</td>\n",
              "      <td>...</td>\n",
              "      <td>...</td>\n",
              "      <td>...</td>\n",
              "      <td>...</td>\n",
              "      <td>...</td>\n",
              "      <td>...</td>\n",
              "      <td>...</td>\n",
              "      <td>...</td>\n",
              "      <td>...</td>\n",
              "      <td>...</td>\n",
              "      <td>...</td>\n",
              "      <td>...</td>\n",
              "      <td>...</td>\n",
              "      <td>...</td>\n",
              "      <td>...</td>\n",
              "      <td>...</td>\n",
              "      <td>...</td>\n",
              "    </tr>\n",
              "    <tr>\n",
              "      <th rowspan=\"5\" valign=\"top\">2019-09-30</th>\n",
              "      <th>1900-01-01 23:40:00</th>\n",
              "      <td>85200.0</td>\n",
              "      <td>85380.0</td>\n",
              "      <td>85560.0</td>\n",
              "      <td>85860.0</td>\n",
              "      <td>86100.0</td>\n",
              "      <td>86280.0</td>\n",
              "      <td>86520.0</td>\n",
              "      <td>86760.0</td>\n",
              "      <td>87000.0</td>\n",
              "      <td>On Time</td>\n",
              "      <td>On Time</td>\n",
              "      <td>On Time</td>\n",
              "      <td>On Time</td>\n",
              "      <td>On Time</td>\n",
              "      <td>On Time</td>\n",
              "      <td>On Time</td>\n",
              "      <td>On Time</td>\n",
              "      <td>On Time</td>\n",
              "    </tr>\n",
              "    <tr>\n",
              "      <th>1900-01-01 23:54:00</th>\n",
              "      <td>86040.0</td>\n",
              "      <td>86220.0</td>\n",
              "      <td>86400.0</td>\n",
              "      <td>86700.0</td>\n",
              "      <td>86940.0</td>\n",
              "      <td>87120.0</td>\n",
              "      <td>87360.0</td>\n",
              "      <td>87600.0</td>\n",
              "      <td>87840.0</td>\n",
              "      <td>On Time</td>\n",
              "      <td>Late</td>\n",
              "      <td>Late</td>\n",
              "      <td>On Time</td>\n",
              "      <td>On Time</td>\n",
              "      <td>Late</td>\n",
              "      <td>On Time</td>\n",
              "      <td>On Time</td>\n",
              "      <td>On Time</td>\n",
              "    </tr>\n",
              "    <tr>\n",
              "      <th>1900-01-02 00:22:00</th>\n",
              "      <td>87720.0</td>\n",
              "      <td>87900.0</td>\n",
              "      <td>88080.0</td>\n",
              "      <td>88380.0</td>\n",
              "      <td>88620.0</td>\n",
              "      <td>88800.0</td>\n",
              "      <td>89040.0</td>\n",
              "      <td>89280.0</td>\n",
              "      <td>89520.0</td>\n",
              "      <td>Late</td>\n",
              "      <td>Late</td>\n",
              "      <td>Late</td>\n",
              "      <td>On Time</td>\n",
              "      <td>On Time</td>\n",
              "      <td>On Time</td>\n",
              "      <td>On Time</td>\n",
              "      <td>Early</td>\n",
              "      <td>Early</td>\n",
              "    </tr>\n",
              "    <tr>\n",
              "      <th>1900-01-02 00:37:00</th>\n",
              "      <td>88620.0</td>\n",
              "      <td>88800.0</td>\n",
              "      <td>88980.0</td>\n",
              "      <td>89280.0</td>\n",
              "      <td>89520.0</td>\n",
              "      <td>89700.0</td>\n",
              "      <td>89940.0</td>\n",
              "      <td>90180.0</td>\n",
              "      <td>90420.0</td>\n",
              "      <td>On Time</td>\n",
              "      <td>On Time</td>\n",
              "      <td>On Time</td>\n",
              "      <td>On Time</td>\n",
              "      <td>On Time</td>\n",
              "      <td>On Time</td>\n",
              "      <td>On Time</td>\n",
              "      <td>On Time</td>\n",
              "      <td>Early</td>\n",
              "    </tr>\n",
              "    <tr>\n",
              "      <th>1900-01-02 00:52:00</th>\n",
              "      <td>89520.0</td>\n",
              "      <td>89700.0</td>\n",
              "      <td>89880.0</td>\n",
              "      <td>90180.0</td>\n",
              "      <td>90420.0</td>\n",
              "      <td>90600.0</td>\n",
              "      <td>90840.0</td>\n",
              "      <td>91080.0</td>\n",
              "      <td>91320.0</td>\n",
              "      <td>On Time</td>\n",
              "      <td>On Time</td>\n",
              "      <td>On Time</td>\n",
              "      <td>On Time</td>\n",
              "      <td>Early</td>\n",
              "      <td>Early</td>\n",
              "      <td>Early</td>\n",
              "      <td>On Time</td>\n",
              "      <td>Early</td>\n",
              "    </tr>\n",
              "  </tbody>\n",
              "</table>\n",
              "<p>37203 rows × 18 columns</p>\n",
              "</div>"
            ],
            "text/plain": [
              "                                 scheduled           ... timeliness         \n",
              "stop_sequence                          1.0      2.0  ...        8.0      9.0\n",
              "service_date route_start_time                        ...                    \n",
              "2018-08-02   1900-01-01 05:10:00   18600.0  18780.0  ...       Late     Late\n",
              "             1900-01-01 05:30:00   19800.0  19980.0  ...       Late     Late\n",
              "             1900-01-01 05:50:00   21000.0  21180.0  ...       Late     Late\n",
              "             1900-01-01 06:06:00   21960.0  22140.0  ...       Late     Late\n",
              "             1900-01-01 06:21:00   22860.0  23040.0  ...    On Time  On Time\n",
              "...                                    ...      ...  ...        ...      ...\n",
              "2019-09-30   1900-01-01 23:40:00   85200.0  85380.0  ...    On Time  On Time\n",
              "             1900-01-01 23:54:00   86040.0  86220.0  ...    On Time  On Time\n",
              "             1900-01-02 00:22:00   87720.0  87900.0  ...      Early    Early\n",
              "             1900-01-02 00:37:00   88620.0  88800.0  ...    On Time    Early\n",
              "             1900-01-02 00:52:00   89520.0  89700.0  ...    On Time    Early\n",
              "\n",
              "[37203 rows x 18 columns]"
            ]
          },
          "metadata": {
            "tags": []
          },
          "execution_count": 32
        }
      ]
    },
    {
      "cell_type": "code",
      "metadata": {
        "colab": {
          "base_uri": "https://localhost:8080/",
          "height": 637
        },
        "id": "TVhbPAFYzbEJ",
        "outputId": "82c765e6-34f1-4f74-e4f4-5abd5f26bdba"
      },
      "source": [
        "out2_df = pd.read_csv(\"PGM-Project/data/route_01_binned.csv\", index_col=[0], header=[0,1])\r\n",
        "out2_df"
      ],
      "execution_count": null,
      "outputs": [
        {
          "output_type": "execute_result",
          "data": {
            "text/html": [
              "<div>\n",
              "<style scoped>\n",
              "    .dataframe tbody tr th:only-of-type {\n",
              "        vertical-align: middle;\n",
              "    }\n",
              "\n",
              "    .dataframe tbody tr th {\n",
              "        vertical-align: top;\n",
              "    }\n",
              "\n",
              "    .dataframe thead tr th {\n",
              "        text-align: left;\n",
              "    }\n",
              "</style>\n",
              "<table border=\"1\" class=\"dataframe\">\n",
              "  <thead>\n",
              "    <tr>\n",
              "      <th></th>\n",
              "      <th>service_date</th>\n",
              "      <th colspan=\"9\" halign=\"left\">scheduled</th>\n",
              "      <th colspan=\"9\" halign=\"left\">timeliness</th>\n",
              "      <th>route_bin</th>\n",
              "    </tr>\n",
              "    <tr>\n",
              "      <th>stop_sequence</th>\n",
              "      <th>Unnamed: 1_level_1</th>\n",
              "      <th>1.0</th>\n",
              "      <th>2.0</th>\n",
              "      <th>3.0</th>\n",
              "      <th>4.0</th>\n",
              "      <th>5.0</th>\n",
              "      <th>6.0</th>\n",
              "      <th>7.0</th>\n",
              "      <th>8.0</th>\n",
              "      <th>9.0</th>\n",
              "      <th>1.0</th>\n",
              "      <th>2.0</th>\n",
              "      <th>3.0</th>\n",
              "      <th>4.0</th>\n",
              "      <th>5.0</th>\n",
              "      <th>6.0</th>\n",
              "      <th>7.0</th>\n",
              "      <th>8.0</th>\n",
              "      <th>9.0</th>\n",
              "      <th>Unnamed: 20_level_1</th>\n",
              "    </tr>\n",
              "  </thead>\n",
              "  <tbody>\n",
              "    <tr>\n",
              "      <th>0</th>\n",
              "      <td>2018-08-03</td>\n",
              "      <td>21960.0</td>\n",
              "      <td>22140.0</td>\n",
              "      <td>22320.0</td>\n",
              "      <td>22500.0</td>\n",
              "      <td>22680.0</td>\n",
              "      <td>22860.0</td>\n",
              "      <td>23040.0</td>\n",
              "      <td>23280.0</td>\n",
              "      <td>23340.0</td>\n",
              "      <td>Early</td>\n",
              "      <td>Early</td>\n",
              "      <td>Early</td>\n",
              "      <td>On Time</td>\n",
              "      <td>On Time</td>\n",
              "      <td>On Time</td>\n",
              "      <td>On Time</td>\n",
              "      <td>On Time</td>\n",
              "      <td>On Time</td>\n",
              "      <td>1900-01-01 06:00:00</td>\n",
              "    </tr>\n",
              "    <tr>\n",
              "      <th>1</th>\n",
              "      <td>2018-08-03</td>\n",
              "      <td>23700.0</td>\n",
              "      <td>23940.0</td>\n",
              "      <td>24120.0</td>\n",
              "      <td>24360.0</td>\n",
              "      <td>24660.0</td>\n",
              "      <td>24900.0</td>\n",
              "      <td>25080.0</td>\n",
              "      <td>25500.0</td>\n",
              "      <td>25560.0</td>\n",
              "      <td>On Time</td>\n",
              "      <td>On Time</td>\n",
              "      <td>On Time</td>\n",
              "      <td>Late</td>\n",
              "      <td>Late</td>\n",
              "      <td>Late</td>\n",
              "      <td>Late</td>\n",
              "      <td>Late</td>\n",
              "      <td>Late</td>\n",
              "      <td>1900-01-01 06:30:00</td>\n",
              "    </tr>\n",
              "    <tr>\n",
              "      <th>2</th>\n",
              "      <td>2018-08-03</td>\n",
              "      <td>25560.0</td>\n",
              "      <td>25800.0</td>\n",
              "      <td>25980.0</td>\n",
              "      <td>26220.0</td>\n",
              "      <td>26520.0</td>\n",
              "      <td>26760.0</td>\n",
              "      <td>26940.0</td>\n",
              "      <td>27420.0</td>\n",
              "      <td>27480.0</td>\n",
              "      <td>On Time</td>\n",
              "      <td>On Time</td>\n",
              "      <td>Late</td>\n",
              "      <td>Late</td>\n",
              "      <td>Late</td>\n",
              "      <td>Late</td>\n",
              "      <td>Late</td>\n",
              "      <td>Late</td>\n",
              "      <td>Late</td>\n",
              "      <td>1900-01-01 07:00:00</td>\n",
              "    </tr>\n",
              "    <tr>\n",
              "      <th>3</th>\n",
              "      <td>2018-08-03</td>\n",
              "      <td>27300.0</td>\n",
              "      <td>27600.0</td>\n",
              "      <td>27960.0</td>\n",
              "      <td>28260.0</td>\n",
              "      <td>28560.0</td>\n",
              "      <td>28920.0</td>\n",
              "      <td>29220.0</td>\n",
              "      <td>29700.0</td>\n",
              "      <td>29760.0</td>\n",
              "      <td>On Time</td>\n",
              "      <td>On Time</td>\n",
              "      <td>On Time</td>\n",
              "      <td>On Time</td>\n",
              "      <td>On Time</td>\n",
              "      <td>Early</td>\n",
              "      <td>Early</td>\n",
              "      <td>Early</td>\n",
              "      <td>Early</td>\n",
              "      <td>1900-01-01 07:30:00</td>\n",
              "    </tr>\n",
              "    <tr>\n",
              "      <th>4</th>\n",
              "      <td>2018-08-03</td>\n",
              "      <td>28980.0</td>\n",
              "      <td>29280.0</td>\n",
              "      <td>29640.0</td>\n",
              "      <td>29940.0</td>\n",
              "      <td>30240.0</td>\n",
              "      <td>30600.0</td>\n",
              "      <td>30900.0</td>\n",
              "      <td>31380.0</td>\n",
              "      <td>31440.0</td>\n",
              "      <td>On Time</td>\n",
              "      <td>On Time</td>\n",
              "      <td>On Time</td>\n",
              "      <td>On Time</td>\n",
              "      <td>Late</td>\n",
              "      <td>Late</td>\n",
              "      <td>Late</td>\n",
              "      <td>Late</td>\n",
              "      <td>Late</td>\n",
              "      <td>1900-01-01 08:00:00</td>\n",
              "    </tr>\n",
              "    <tr>\n",
              "      <th>...</th>\n",
              "      <td>...</td>\n",
              "      <td>...</td>\n",
              "      <td>...</td>\n",
              "      <td>...</td>\n",
              "      <td>...</td>\n",
              "      <td>...</td>\n",
              "      <td>...</td>\n",
              "      <td>...</td>\n",
              "      <td>...</td>\n",
              "      <td>...</td>\n",
              "      <td>...</td>\n",
              "      <td>...</td>\n",
              "      <td>...</td>\n",
              "      <td>...</td>\n",
              "      <td>...</td>\n",
              "      <td>...</td>\n",
              "      <td>...</td>\n",
              "      <td>...</td>\n",
              "      <td>...</td>\n",
              "      <td>...</td>\n",
              "    </tr>\n",
              "    <tr>\n",
              "      <th>9153</th>\n",
              "      <td>2019-09-30</td>\n",
              "      <td>81240.0</td>\n",
              "      <td>81480.0</td>\n",
              "      <td>81720.0</td>\n",
              "      <td>82020.0</td>\n",
              "      <td>82260.0</td>\n",
              "      <td>82440.0</td>\n",
              "      <td>82680.0</td>\n",
              "      <td>82920.0</td>\n",
              "      <td>83160.0</td>\n",
              "      <td>On Time</td>\n",
              "      <td>On Time</td>\n",
              "      <td>On Time</td>\n",
              "      <td>On Time</td>\n",
              "      <td>On Time</td>\n",
              "      <td>On Time</td>\n",
              "      <td>Late</td>\n",
              "      <td>Late</td>\n",
              "      <td>On Time</td>\n",
              "      <td>1900-01-01 22:30:00</td>\n",
              "    </tr>\n",
              "    <tr>\n",
              "      <th>9154</th>\n",
              "      <td>2019-09-30</td>\n",
              "      <td>83580.0</td>\n",
              "      <td>83760.0</td>\n",
              "      <td>83940.0</td>\n",
              "      <td>84240.0</td>\n",
              "      <td>84480.0</td>\n",
              "      <td>84660.0</td>\n",
              "      <td>84900.0</td>\n",
              "      <td>85140.0</td>\n",
              "      <td>85380.0</td>\n",
              "      <td>On Time</td>\n",
              "      <td>On Time</td>\n",
              "      <td>On Time</td>\n",
              "      <td>On Time</td>\n",
              "      <td>On Time</td>\n",
              "      <td>On Time</td>\n",
              "      <td>On Time</td>\n",
              "      <td>On Time</td>\n",
              "      <td>Early</td>\n",
              "      <td>1900-01-01 23:00:00</td>\n",
              "    </tr>\n",
              "    <tr>\n",
              "      <th>9155</th>\n",
              "      <td>2019-09-30</td>\n",
              "      <td>85200.0</td>\n",
              "      <td>85380.0</td>\n",
              "      <td>85560.0</td>\n",
              "      <td>85860.0</td>\n",
              "      <td>86100.0</td>\n",
              "      <td>86280.0</td>\n",
              "      <td>86520.0</td>\n",
              "      <td>86760.0</td>\n",
              "      <td>87000.0</td>\n",
              "      <td>On Time</td>\n",
              "      <td>On Time</td>\n",
              "      <td>On Time</td>\n",
              "      <td>On Time</td>\n",
              "      <td>On Time</td>\n",
              "      <td>On Time</td>\n",
              "      <td>On Time</td>\n",
              "      <td>On Time</td>\n",
              "      <td>On Time</td>\n",
              "      <td>1900-01-01 23:30:00</td>\n",
              "    </tr>\n",
              "    <tr>\n",
              "      <th>9156</th>\n",
              "      <td>2019-09-30</td>\n",
              "      <td>87720.0</td>\n",
              "      <td>87900.0</td>\n",
              "      <td>88080.0</td>\n",
              "      <td>88380.0</td>\n",
              "      <td>88620.0</td>\n",
              "      <td>88800.0</td>\n",
              "      <td>89040.0</td>\n",
              "      <td>89280.0</td>\n",
              "      <td>89520.0</td>\n",
              "      <td>Late</td>\n",
              "      <td>Late</td>\n",
              "      <td>Late</td>\n",
              "      <td>On Time</td>\n",
              "      <td>On Time</td>\n",
              "      <td>On Time</td>\n",
              "      <td>On Time</td>\n",
              "      <td>Early</td>\n",
              "      <td>Early</td>\n",
              "      <td>1900-01-02 00:00:00</td>\n",
              "    </tr>\n",
              "    <tr>\n",
              "      <th>9157</th>\n",
              "      <td>2019-09-30</td>\n",
              "      <td>88620.0</td>\n",
              "      <td>88800.0</td>\n",
              "      <td>88980.0</td>\n",
              "      <td>89280.0</td>\n",
              "      <td>89520.0</td>\n",
              "      <td>89700.0</td>\n",
              "      <td>89940.0</td>\n",
              "      <td>90180.0</td>\n",
              "      <td>90420.0</td>\n",
              "      <td>On Time</td>\n",
              "      <td>On Time</td>\n",
              "      <td>On Time</td>\n",
              "      <td>On Time</td>\n",
              "      <td>On Time</td>\n",
              "      <td>On Time</td>\n",
              "      <td>On Time</td>\n",
              "      <td>On Time</td>\n",
              "      <td>Early</td>\n",
              "      <td>1900-01-02 00:30:00</td>\n",
              "    </tr>\n",
              "  </tbody>\n",
              "</table>\n",
              "<p>9158 rows × 20 columns</p>\n",
              "</div>"
            ],
            "text/plain": [
              "                    service_date scheduled  ... timeliness            route_bin\n",
              "stop_sequence Unnamed: 1_level_1       1.0  ...        9.0  Unnamed: 20_level_1\n",
              "0                     2018-08-03   21960.0  ...    On Time  1900-01-01 06:00:00\n",
              "1                     2018-08-03   23700.0  ...       Late  1900-01-01 06:30:00\n",
              "2                     2018-08-03   25560.0  ...       Late  1900-01-01 07:00:00\n",
              "3                     2018-08-03   27300.0  ...      Early  1900-01-01 07:30:00\n",
              "4                     2018-08-03   28980.0  ...       Late  1900-01-01 08:00:00\n",
              "...                          ...       ...  ...        ...                  ...\n",
              "9153                  2019-09-30   81240.0  ...    On Time  1900-01-01 22:30:00\n",
              "9154                  2019-09-30   83580.0  ...      Early  1900-01-01 23:00:00\n",
              "9155                  2019-09-30   85200.0  ...    On Time  1900-01-01 23:30:00\n",
              "9156                  2019-09-30   87720.0  ...      Early  1900-01-02 00:00:00\n",
              "9157                  2019-09-30   88620.0  ...      Early  1900-01-02 00:30:00\n",
              "\n",
              "[9158 rows x 20 columns]"
            ]
          },
          "metadata": {
            "tags": []
          },
          "execution_count": 33
        }
      ]
    },
    {
      "cell_type": "code",
      "metadata": {
        "id": "VceJkLR8-Kpm"
      },
      "source": [
        "n_bins = int(out2_df[\"route_bin\"].nunique())"
      ],
      "execution_count": null,
      "outputs": []
    },
    {
      "cell_type": "markdown",
      "metadata": {
        "id": "M9PXQiFvpsFL"
      },
      "source": [
        "# Training"
      ]
    },
    {
      "cell_type": "code",
      "metadata": {
        "id": "zwi3ISTgSh5o"
      },
      "source": [
        "X = out_df['scheduled'].to_numpy()\n",
        "y = out_df['timeliness'].to_numpy()\n",
        "\n",
        "X2 = out2_df['scheduled'].to_numpy()\n",
        "y2 = out2_df['timeliness'].to_numpy()"
      ],
      "execution_count": null,
      "outputs": []
    },
    {
      "cell_type": "code",
      "metadata": {
        "id": "BeTs39pIT5tV",
        "colab": {
          "base_uri": "https://localhost:8080/"
        },
        "outputId": "1c863cca-3709-46ef-8292-3f24d33f3ad7"
      },
      "source": [
        "X"
      ],
      "execution_count": null,
      "outputs": [
        {
          "output_type": "execute_result",
          "data": {
            "text/plain": [
              "array([[18600., 18780., 18960., ..., 19680., 19920., 19980.],\n",
              "       [19800., 19980., 20160., ..., 20880., 21120., 21180.],\n",
              "       [21000., 21180., 21360., ..., 22080., 22320., 22380.],\n",
              "       ...,\n",
              "       [87720., 87900., 88080., ..., 89040., 89280., 89520.],\n",
              "       [88620., 88800., 88980., ..., 89940., 90180., 90420.],\n",
              "       [89520., 89700., 89880., ..., 90840., 91080., 91320.]])"
            ]
          },
          "metadata": {
            "tags": []
          },
          "execution_count": 36
        }
      ]
    },
    {
      "cell_type": "code",
      "metadata": {
        "id": "8WUEgDDgT6pS",
        "colab": {
          "base_uri": "https://localhost:8080/"
        },
        "outputId": "625dc793-22ee-4787-bdc6-f2dbd1dd4922"
      },
      "source": [
        "y"
      ],
      "execution_count": null,
      "outputs": [
        {
          "output_type": "execute_result",
          "data": {
            "text/plain": [
              "array([['On Time', 'On Time', 'On Time', ..., 'Late', 'Late', 'Late'],\n",
              "       ['On Time', 'On Time', 'On Time', ..., 'Late', 'Late', 'Late'],\n",
              "       ['On Time', 'On Time', 'On Time', ..., 'Late', 'Late', 'Late'],\n",
              "       ...,\n",
              "       ['Late', 'Late', 'Late', ..., 'On Time', 'Early', 'Early'],\n",
              "       ['On Time', 'On Time', 'On Time', ..., 'On Time', 'On Time',\n",
              "        'Early'],\n",
              "       ['On Time', 'On Time', 'On Time', ..., 'Early', 'On Time',\n",
              "        'Early']], dtype=object)"
            ]
          },
          "metadata": {
            "tags": []
          },
          "execution_count": 37
        }
      ]
    },
    {
      "cell_type": "markdown",
      "metadata": {
        "id": "B-eRDMQr8b3r"
      },
      "source": [
        "## Aligned Bins"
      ]
    },
    {
      "cell_type": "code",
      "metadata": {
        "id": "T_Oz0WdTUKBt"
      },
      "source": [
        "# Split dataset into training set and test set\n",
        "test_fraction = 0.2\n",
        "split_idx = int(X.shape[0] * test_fraction)\n",
        "X_train, X_test, y_train, y_test = X[:-split_idx], X[-split_idx:], y[:-split_idx], y[-split_idx:]"
      ],
      "execution_count": null,
      "outputs": []
    },
    {
      "cell_type": "code",
      "metadata": {
        "id": "VYjTHzrj75Aw"
      },
      "source": [
        "# Reshape into (Days x time bins x stops)\r\n",
        "shape = (X2.shape[0]//n_bins, n_bins, X2.shape[1])\r\n",
        "\r\n",
        "X2 = X2.reshape(shape) \r\n",
        "y2 = y2.reshape(shape) "
      ],
      "execution_count": null,
      "outputs": []
    },
    {
      "cell_type": "code",
      "metadata": {
        "id": "TNcnFZqhAkhH"
      },
      "source": [
        "# Split dataset #2 into training set and test set\r\n",
        "test_fraction = 0.2\r\n",
        "split_idx = int(X2.shape[0] * test_fraction)\r\n",
        "X2_train, X2_test, y2_train, y2_test = X2[:-split_idx], X2[-split_idx:], y2[:-split_idx], y2[-split_idx:]"
      ],
      "execution_count": null,
      "outputs": []
    },
    {
      "cell_type": "code",
      "metadata": {
        "id": "yt6sP2w3BAFl",
        "colab": {
          "base_uri": "https://localhost:8080/"
        },
        "outputId": "e1e81628-5529-462d-bb17-083d8dbfc19a"
      },
      "source": [
        "X2_train.shape"
      ],
      "execution_count": null,
      "outputs": [
        {
          "output_type": "execute_result",
          "data": {
            "text/plain": [
              "(193, 38, 9)"
            ]
          },
          "metadata": {
            "tags": []
          },
          "execution_count": 41
        }
      ]
    },
    {
      "cell_type": "code",
      "metadata": {
        "id": "k_nqxw5ABBkd",
        "colab": {
          "base_uri": "https://localhost:8080/"
        },
        "outputId": "b9eecd6a-2bb0-4de3-9430-319b91130679"
      },
      "source": [
        "X2_test.shape"
      ],
      "execution_count": null,
      "outputs": [
        {
          "output_type": "execute_result",
          "data": {
            "text/plain": [
              "(48, 38, 9)"
            ]
          },
          "metadata": {
            "tags": []
          },
          "execution_count": 42
        }
      ]
    },
    {
      "cell_type": "markdown",
      "metadata": {
        "id": "4G2vUxb38fb7"
      },
      "source": [
        "## Mode Baseline"
      ]
    },
    {
      "cell_type": "code",
      "metadata": {
        "colab": {
          "base_uri": "https://localhost:8080/"
        },
        "id": "6GBJ-4vG8eex",
        "outputId": "55f68dd7-4b3b-472d-ad45-745760f1f51d"
      },
      "source": [
        "from collections import Counter\r\n",
        "c = Counter(y.flatten())\r\n",
        "counts = c.values()\r\n",
        "mode_performance = max(counts) / sum(counts)\r\n",
        "mode_performance"
      ],
      "execution_count": null,
      "outputs": [
        {
          "output_type": "execute_result",
          "data": {
            "text/plain": [
              "0.4811917796354535"
            ]
          },
          "metadata": {
            "tags": []
          },
          "execution_count": 43
        }
      ]
    },
    {
      "cell_type": "code",
      "metadata": {
        "colab": {
          "base_uri": "https://localhost:8080/"
        },
        "id": "MYVdeIMQ9bdR",
        "outputId": "4051e22a-7e8d-41cc-f1f5-05a98dbd47e4"
      },
      "source": [
        "c2 = Counter(y2.flatten())\r\n",
        "counts = c2.values()\r\n",
        "mode_performance2 = max(counts) / sum(counts)\r\n",
        "mode_performance2"
      ],
      "execution_count": null,
      "outputs": [
        {
          "output_type": "execute_result",
          "data": {
            "text/plain": [
              "0.47796704763291353"
            ]
          },
          "metadata": {
            "tags": []
          },
          "execution_count": 44
        }
      ]
    },
    {
      "cell_type": "markdown",
      "metadata": {
        "id": "Af8O8FeopwfT"
      },
      "source": [
        "# Inference"
      ]
    },
    {
      "cell_type": "markdown",
      "metadata": {
        "id": "8CmvKw5Kp5xR"
      },
      "source": [
        "## Markov Chain - Stops id"
      ]
    },
    {
      "cell_type": "code",
      "metadata": {
        "id": "iQBr9j-se7vS"
      },
      "source": [
        "import math\n",
        "\n",
        "def parametrization(state_dict, X_tr, y_tr, knots, time_homogeneous = True, stop_homogeneous = True):\n",
        "      \n",
        "    N, T = X_tr.shape\n",
        "\n",
        "    if not time_homogeneous:\n",
        "        transition_matrix = np.zeros((len(knots) - 1,3,3))\n",
        "        pi = np.zeros((len(knots) - 1, 3))\n",
        "\n",
        "    elif not stop_homogeneous:\n",
        "        transition_matrix = np.zeros((T - 1,3,3))\n",
        "        pi = np.zeros(3)\n",
        "    \n",
        "    else:\n",
        "        transition_matrix = np.zeros((3,3))\n",
        "        pi = np.zeros(3)\n",
        "\n",
        "    for i in range(N):\n",
        "\n",
        "        actual_state = state_dict[y_tr[i,0]] \n",
        "\n",
        "        if not time_homogeneous:\n",
        "            for k in range(len(knots) - 1):\n",
        "                if (X_tr[i,0] >= knots[k]) and (X_tr[i,0] < knots[k + 1]):\n",
        "                    dtw = k\n",
        "            pi[dtw, actual_state] += 1\n",
        "  \n",
        "        else:\n",
        "            pi[actual_state] += 1\n",
        "\n",
        "        for j in range(T - 1):\n",
        "            actual_state = state_dict[y_tr[i,j]]\n",
        "            next_state = state_dict[y_tr[i,j + 1]]\n",
        "\n",
        "            if not time_homogeneous:\n",
        "                for k in range(len(knots) - 1):\n",
        "                    if X_tr[i,j] >= knots[k] and X_tr[i,j]< knots[k + 1]:\n",
        "                        dtw = k\n",
        "                transition_matrix[dtw, actual_state, next_state] +=  1\n",
        "            \n",
        "            elif not stop_homogeneous:\n",
        "                transition_matrix[j, actual_state, next_state] +=  1\n",
        "\n",
        "            else:\n",
        "                transition_matrix[actual_state, next_state] +=  1\n",
        "\n",
        "    #Normalization\n",
        "    if not time_homogeneous:\n",
        "\n",
        "        for k in range(0, len(knots) - 1):\n",
        "\n",
        "            if sum(pi[k,:]) == 0:\n",
        "                pi[k,:] = [1/3, 1/3, 1/3]\n",
        "            else:\n",
        "                pi[k,:] = pi[k,:] / sum(pi[k,:])\n",
        "            \n",
        "            if transition_matrix[k,:,:].sum(axis = 1)[0] == 0:\n",
        "                transition_matrix[k,0,:] = [1/3, 1/3, 1/3]\n",
        "            if transition_matrix[k,:,:].sum(axis = 1)[1] == 0:\n",
        "                transition_matrix[k,1,:] = [1/3, 1/3, 1/3]\n",
        "            if transition_matrix[k,:,:].sum(axis = 1)[2] == 0:\n",
        "                transition_matrix[k,2,:] = [1/3, 1/3, 1/3]\n",
        "                \n",
        "            transition_matrix[k,:,:] = (transition_matrix[k,:,:].T/transition_matrix[k,:,:].sum(axis = 1)).T\n",
        "\n",
        "    elif not stop_homogeneous:\n",
        "\n",
        "        for j in range(T - 1):\n",
        "            if sum(pi[j,:]) == 0:\n",
        "                pi[j,:] = [1/3, 1/3, 1/3]\n",
        "            else:\n",
        "                pi[j,:] = pi[j,:] / sum(pi[j,:])\n",
        "            \n",
        "            if transition_matrix[j,:,:].sum(axis = 1)[0] == 0:\n",
        "                transition_matrix[j,0,:] = [1/3, 1/3, 1/3]\n",
        "            if transition_matrix[j,:,:].sum(axis = 1)[1] == 0:\n",
        "                transition_matrix[j,1,:] = [1/3, 1/3, 1/3]\n",
        "            if transition_matrix[j,:,:].sum(axis = 1)[2] == 0:\n",
        "                transition_matrix[j,2,:] = [1/3, 1/3, 1/3]\n",
        "                \n",
        "            transition_matrix[j,:,:] = (transition_matrix[j,:,:].T/transition_matrix[j,:,:].sum(axis = 1)).T\n",
        "\n",
        "    else:      \n",
        "        pi = pi/sum(pi)\n",
        "        \n",
        "        #Check first divison by 0\n",
        "        if transition_matrix.sum(axis = 1)[0] == 0 or transition_matrix.sum(axis = 1)[1] == 0 or transition_matrix.sum(axis = 1)[2] == 0:\n",
        "            print('error: one or more states not seen in training set. Increase slidewindow_len.')\n",
        "        else:\n",
        "            transition_matrix = (transition_matrix.T/transition_matrix.sum(axis = 1)).T\n",
        "\n",
        "    return pi, transition_matrix\n",
        "\n",
        "def pred_next_trip_delays(state_dict, pi, transition_matrix, X_tst, knots, time_homogeneous = True, stop_homogeneous = True):\n",
        "\n",
        "    future_states = []\n",
        "\n",
        "    if not time_homogeneous:\n",
        "\n",
        "        for k in range(len(knots) - 1):\n",
        "            if X_tst[0] >= knots[k] and X_tst[0] < knots[k + 1]:\n",
        "                dtw = k\n",
        "        first_stop_state = np.random.choice(np.array(list(state_dict.keys())), p = pi[dtw, :])\n",
        "    \n",
        "    elif not stop_homogeneous:\n",
        "        pass\n",
        "    else:\n",
        "        first_stop_state = np.random.choice(np.array(list(state_dict.keys())), p = pi)\n",
        "\n",
        "\n",
        "    future_states.append(first_stop_state)\n",
        "\n",
        "    for i in range(len(X_tst)):\n",
        "        current_state = state_dict[future_states[-1]]\n",
        "\n",
        "        if not time_homogeneous:\n",
        "\n",
        "            for k in range(len(knots) - 1):\n",
        "                if X_tst[i] >= knots[k] and X_tst[i] < knots[k + 1]:\n",
        "                    dtw = k\n",
        "            next_state = np.random.choice(np.array(list(state_dict.keys())), p = transition_matrix[dtw, current_state, :])\n",
        "        \n",
        "        elif not stop_homogeneous:\n",
        "            pass\n",
        "\n",
        "        else:\n",
        "            next_state = np.random.choice(np.array(list(state_dict.keys())), p = transition_matrix[current_state, :])\n",
        "\n",
        "        future_states.append(next_state)\n",
        "\n",
        "    return future_states\n",
        "\n",
        "def pred_next_stop_delay(current_state, state_dict, transition_matrix, x_tst, knots, time_homogeneous = True, stop_homogeneous = True):\n",
        "\n",
        "      if not time_homogeneous:\n",
        "\n",
        "          for k in range(len(knots) - 1):\n",
        "              if x_tst >= knots[k] and x_tst < knots[k + 1]:\n",
        "                  dtw = k\n",
        "          return np.random.choice(np.array(list(state_dict.keys())), p = transition_matrix[dtw, state_dict[current_state], :])\n",
        "      \n",
        "      elif not stop_homogeneous:\n",
        "          pass\n",
        "      else:\n",
        "          return np.random.choice(np.array(list(state_dict.keys())), p = transition_matrix[state_dict[current_state], :])"
      ],
      "execution_count": 59,
      "outputs": []
    },
    {
      "cell_type": "code",
      "metadata": {
        "colab": {
          "base_uri": "https://localhost:8080/"
        },
        "id": "OqgPzEDUkcxx",
        "outputId": "c33e0477-d77d-41d4-d93a-fcaf0e7315d4"
      },
      "source": [
        "#----- Parameters ----- \n",
        "slidewindow_len = 50 #Number of previous days to train on\n",
        "time_homogeneous = False\n",
        "stop_homogeneous = True\n",
        "if not time_homogeneous and not stop_homogeneous:\n",
        "    print('time inhomogeneous and stop inhomogeneous markov chains not implemented, keep time_homogeneous or stop_homogeneous True')\n",
        "    exit() \n",
        "knots = [0, 21600, 32400, 50400, 64800, 93600] #DTWs time limits (for inhomogeneous chains)\n",
        "#----------------------\n",
        "\n",
        "#Init\n",
        "state_dict = {'Early': 0, 'On Time': 1, 'Late': 2}\n",
        "accu1 = 0\n",
        "accu2 = 0\n",
        "\n",
        "#Usefull constants\n",
        "N, T = X_train.shape\n",
        "\n",
        "for k in range(slidewindow_len, N):\n",
        "\n",
        "    X_tr = X_train[k-slidewindow_len:k,:]\n",
        "    y_tr = y_train[k-slidewindow_len:k,:]\n",
        "    X_tst = X_train[k,:]\n",
        "    y_tst = y_train[k,:]\n",
        "    pi, transition_matrix = parametrization(state_dict, X_tr, y_tr, knots, time_homogeneous, stop_homogeneous)\n",
        "\n",
        "\n",
        "    #Predict the next trip sequence of states\n",
        "    future_states = pred_next_trip_delays(state_dict, pi, transition_matrix, X_tst, knots, time_homogeneous, stop_homogeneous)\n",
        "\n",
        "    for t in range(T):\n",
        "\n",
        "        if y_tst[t] == future_states[t]:\n",
        "            accu1 += 1\n",
        "    \n",
        "    #Predict the state of the next stop\n",
        "    if not time_homogeneous:\n",
        "\n",
        "        for k in range(len(knots) - 1):\n",
        "            if X_tst[0] >= knots[k] and X_tst[0] < knots[k + 1]:\n",
        "                dtw = k\n",
        "        first_state = np.random.choice(np.array(list(state_dict.keys())), p = pi[dtw, :]) #Prediction of the first stop state is random\n",
        "    \n",
        "    elif not stop_homogeneous:\n",
        "        pass\n",
        "    \n",
        "    else:\n",
        "        first_state = np.random.choice(np.array(list(state_dict.keys())), p = pi) #Prediction of the first stop state is random\n",
        "\n",
        "    if y_tst[0] == first_state:\n",
        "        accu2 += 1\n",
        "\n",
        "    for t in range(1, T):\n",
        "        next_state = pred_next_stop_delay(y_tst[t-1], state_dict, transition_matrix, X_tst[t], knots, time_homogeneous, stop_homogeneous)\n",
        "        \n",
        "        if y_tst[t] == next_state:\n",
        "            accu2 += 1\n",
        "\n",
        "\n",
        "accu1 = accu1 /((N - slidewindow_len) * T)\n",
        "accu2 = accu2 /((N - slidewindow_len) * T)\n",
        "print(accu1)\n",
        "print(accu2)\n"
      ],
      "execution_count": 60,
      "outputs": [
        {
          "output_type": "stream",
          "text": [
            "0.44790346163482503\n",
            "0.6546442447563169\n"
          ],
          "name": "stdout"
        }
      ]
    },
    {
      "cell_type": "markdown",
      "metadata": {
        "id": "ulXhZuacXQen"
      },
      "source": [
        "homogeneous:\n",
        "\n",
        "*   accu1: 0.43205470637966764\n",
        "*   accu2: 0.6853260910226772\n",
        "\n",
        "inhomogeneous (DTW = 1 hour):\n",
        "\n",
        "*   accu1 0.4616673774306257\n",
        "*   accu2 0.6461181065248132\n",
        "\n",
        "inhomogeneous (DTW = peak vs off-peak):\n",
        "\n",
        "*   accu1 0.44364015891185776\n",
        "*   accu2 0.6807622382331157\n",
        "\n"
      ]
    }
  ]
}