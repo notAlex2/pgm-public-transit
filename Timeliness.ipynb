{
  "nbformat": 4,
  "nbformat_minor": 0,
  "metadata": {
    "colab": {
      "name": "Timeliness.ipynb",
      "provenance": [],
      "collapsed_sections": [],
      "toc_visible": true,
      "include_colab_link": true
    },
    "kernelspec": {
      "name": "python3",
      "display_name": "Python 3"
    }
  },
  "cells": [
    {
      "cell_type": "markdown",
      "metadata": {
        "id": "view-in-github",
        "colab_type": "text"
      },
      "source": [
        "<a href=\"https://colab.research.google.com/github/remidion/PGM-Project/blob/main/Timeliness.ipynb\" target=\"_parent\"><img src=\"https://colab.research.google.com/assets/colab-badge.svg\" alt=\"Open In Colab\"/></a>"
      ]
    },
    {
      "cell_type": "markdown",
      "metadata": {
        "id": "9YFa8mQsDgEI"
      },
      "source": [
        "[![Open In Colab](https://colab.research.google.com/assets/colab-badge.svg)](https://colab.research.google.com/github/remidion/PGM-Project/blob/main/main.ipynb)"
      ]
    },
    {
      "cell_type": "code",
      "metadata": {
        "id": "Jq2pWfXw5gnj"
      },
      "source": [
        "# Imports\n",
        "from getpass import getpass\n",
        "import pandas as pd\n",
        "import os\n",
        "import numpy as np\n",
        "import glob\n",
        "import datetime"
      ],
      "execution_count": 37,
      "outputs": []
    },
    {
      "cell_type": "code",
      "metadata": {
        "id": "VNvxSkb47u71",
        "colab": {
          "base_uri": "https://localhost:8080/"
        },
        "outputId": "f8cf48b9-fdc9-40f7-a1b6-cdbbab33f6bc"
      },
      "source": [
        "!pip install geopandas\n",
        "import geopandas as gpd"
      ],
      "execution_count": 18,
      "outputs": [
        {
          "output_type": "stream",
          "text": [
            "Requirement already satisfied: geopandas in c:\\users\\alex\\anaconda3\\envs\\pgm_env\\lib\\site-packages (0.8.1)\n",
            "Requirement already satisfied: pandas>=0.23.0 in c:\\users\\alex\\anaconda3\\envs\\pgm_env\\lib\\site-packages (from geopandas) (1.1.3)\n",
            "Requirement already satisfied: pyproj>=2.2.0 in c:\\users\\alex\\anaconda3\\envs\\pgm_env\\lib\\site-packages (from geopandas) (2.6.1.post1)\n",
            "Requirement already satisfied: fiona in c:\\users\\alex\\anaconda3\\envs\\pgm_env\\lib\\site-packages (from geopandas) (1.8.13.post1)\n",
            "Requirement already satisfied: shapely in c:\\users\\alex\\anaconda3\\envs\\pgm_env\\lib\\site-packages (from geopandas) (1.7.1)\n",
            "Requirement already satisfied: numpy>=1.15.4 in c:\\users\\alex\\anaconda3\\envs\\pgm_env\\lib\\site-packages (from pandas>=0.23.0->geopandas) (1.19.2)\n",
            "Requirement already satisfied: python-dateutil>=2.7.3 in c:\\users\\alex\\anaconda3\\envs\\pgm_env\\lib\\site-packages (from pandas>=0.23.0->geopandas) (2.8.1)\n",
            "Requirement already satisfied: pytz>=2017.2 in c:\\users\\alex\\anaconda3\\envs\\pgm_env\\lib\\site-packages (from pandas>=0.23.0->geopandas) (2020.1)\n",
            "Requirement already satisfied: attrs>=17 in c:\\users\\alex\\anaconda3\\envs\\pgm_env\\lib\\site-packages (from fiona->geopandas) (20.3.0)\n",
            "Requirement already satisfied: click<8,>=4.0 in c:\\users\\alex\\anaconda3\\envs\\pgm_env\\lib\\site-packages (from fiona->geopandas) (7.1.2)\n",
            "Requirement already satisfied: cligj>=0.5 in c:\\users\\alex\\anaconda3\\envs\\pgm_env\\lib\\site-packages (from fiona->geopandas) (0.7.0)\n",
            "Requirement already satisfied: click-plugins>=1.0 in c:\\users\\alex\\anaconda3\\envs\\pgm_env\\lib\\site-packages (from fiona->geopandas) (1.1.1)\n",
            "Requirement already satisfied: six>=1.7 in c:\\users\\alex\\anaconda3\\envs\\pgm_env\\lib\\site-packages (from fiona->geopandas) (1.15.0)\n",
            "Requirement already satisfied: munch in c:\\users\\alex\\anaconda3\\envs\\pgm_env\\lib\\site-packages (from fiona->geopandas) (2.5.0)\n"
          ],
          "name": "stdout"
        }
      ]
    },
    {
      "cell_type": "markdown",
      "metadata": {
        "id": "yTYzZ-z3VVlT"
      },
      "source": [
        "# Data Preparation"
      ]
    },
    {
      "cell_type": "markdown",
      "metadata": {
        "id": "0PM6-UNG5OFy"
      },
      "source": [
        "## Download MBTA Data"
      ]
    },
    {
      "cell_type": "code",
      "metadata": {
        "id": "KEm4vZrm1oDa"
      },
      "source": [
        "if not os.path.exists(\"data\"):\n",
        "  !wget https://www.arcgis.com/sharing/rest/content/items/d685ba39d9a54d908f49a2a762a9eb47/data\n",
        "if not os.path.exists(\"MBTA Bus Arrival Departure Aug-Sept 2018.csv\"):\n",
        "  !unzip data\n",
        "\n",
        "if not os.path.exists(\"data.1\"):\n",
        "  !wget https://www.arcgis.com/sharing/rest/content/items/1bd340b39942438685d8dcdfe3f26d1a/data\n",
        "if not os.path.exists(\"MBTA Bus Arrival Departure Apr-June 2019.csv\"):\n",
        "  !unzip data.1"
      ],
      "execution_count": 19,
      "outputs": []
    },
    {
      "cell_type": "markdown",
      "metadata": {
        "id": "caO4ltSm5YoC"
      },
      "source": [
        "## Load MBTA Arrival Data"
      ]
    },
    {
      "cell_type": "code",
      "metadata": {
        "id": "o1O0e21i7Ln8",
        "colab": {
          "base_uri": "https://localhost:8080/",
          "height": 419
        },
        "outputId": "a16dac5e-cd40-48fb-d5c7-39de0ca80517"
      },
      "source": [
        "df2 = pd.read_csv(\"MBTA Bus Arrival Departure Apr-June 2019.csv\")\n",
        "df2"
      ],
      "execution_count": 20,
      "outputs": [
        {
          "output_type": "execute_result",
          "data": {
            "text/plain": [
              "        service_date route_id direction  half_trip_id  stop_id stop_name  \\\n",
              "0         2019-04-01       01   Inbound    42976988.0       75       mit   \n",
              "1         2019-04-01       01   Inbound    42976988.0       79     hynes   \n",
              "2         2019-04-01       01   Inbound    42976988.0      187     masta   \n",
              "3         2019-04-01       01   Inbound    42976988.0       59     Wasma   \n",
              "4         2019-04-01       01   Inbound    42977170.0      110     hhgat   \n",
              "...              ...      ...       ...           ...      ...       ...   \n",
              "7670643   2019-06-30      SL5  Outbound    44045095.0    15176     mawor   \n",
              "7670644   2019-06-30      SL5  Outbound    44045095.0       55     Wasma   \n",
              "7670645   2019-06-30      SL5  Outbound    44045095.0       60     Walen   \n",
              "7670646   2019-06-30      SL5  Outbound    44045095.0       61     Melwa   \n",
              "7670647   2019-06-30      SL5  Outbound    44045095.0       64     Dudly   \n",
              "\n",
              "         stop_sequence  point_type standard_type            scheduled  \\\n",
              "0                  4.0    Midpoint      Schedule  1900-01-01 05:19:00   \n",
              "1                  5.0    Midpoint      Schedule  1900-01-01 05:23:00   \n",
              "2                  6.0    Midpoint      Schedule  1900-01-01 05:25:00   \n",
              "3                  7.0    Midpoint      Schedule  1900-01-01 05:29:00   \n",
              "4                  1.0  Startpoint       Headway  1900-01-01 05:30:00   \n",
              "...                ...         ...           ...                  ...   \n",
              "7670643            8.0    Midpoint       Headway  1900-01-02 00:54:00   \n",
              "7670644            9.0    Midpoint       Headway  1900-01-02 00:55:00   \n",
              "7670645           10.0    Midpoint       Headway  1900-01-02 00:56:00   \n",
              "7670646           11.0    Midpoint       Headway  1900-01-02 00:57:00   \n",
              "7670647           12.0    Endpoint       Headway  1900-01-02 00:58:00   \n",
              "\n",
              "                      actual  scheduled_headway  headway  \n",
              "0        1900-01-01 05:21:20                NaN      NaN  \n",
              "1        1900-01-01 05:24:17                NaN      NaN  \n",
              "2        1900-01-01 05:26:05                NaN      NaN  \n",
              "3        1900-01-01 05:27:59                NaN      NaN  \n",
              "4        1900-01-01 05:29:55             1200.0   1230.0  \n",
              "...                      ...                ...      ...  \n",
              "7670643                  NaN              900.0      NaN  \n",
              "7670644                  NaN              900.0      NaN  \n",
              "7670645                  NaN              900.0      NaN  \n",
              "7670646                  NaN              900.0      NaN  \n",
              "7670647                  NaN              900.0      NaN  \n",
              "\n",
              "[7670648 rows x 13 columns]"
            ],
            "text/html": [
              "<div>\n",
              "<style scoped>\n",
              "    .dataframe tbody tr th:only-of-type {\n",
              "        vertical-align: middle;\n",
              "    }\n",
              "\n",
              "    .dataframe tbody tr th {\n",
              "        vertical-align: top;\n",
              "    }\n",
              "\n",
              "    .dataframe thead th {\n",
              "        text-align: right;\n",
              "    }\n",
              "</style>\n",
              "<table border=\"1\" class=\"dataframe\">\n",
              "  <thead>\n",
              "    <tr style=\"text-align: right;\">\n",
              "      <th></th>\n",
              "      <th>service_date</th>\n",
              "      <th>route_id</th>\n",
              "      <th>direction</th>\n",
              "      <th>half_trip_id</th>\n",
              "      <th>stop_id</th>\n",
              "      <th>stop_name</th>\n",
              "      <th>stop_sequence</th>\n",
              "      <th>point_type</th>\n",
              "      <th>standard_type</th>\n",
              "      <th>scheduled</th>\n",
              "      <th>actual</th>\n",
              "      <th>scheduled_headway</th>\n",
              "      <th>headway</th>\n",
              "    </tr>\n",
              "  </thead>\n",
              "  <tbody>\n",
              "    <tr>\n",
              "      <th>0</th>\n",
              "      <td>2019-04-01</td>\n",
              "      <td>01</td>\n",
              "      <td>Inbound</td>\n",
              "      <td>42976988.0</td>\n",
              "      <td>75</td>\n",
              "      <td>mit</td>\n",
              "      <td>4.0</td>\n",
              "      <td>Midpoint</td>\n",
              "      <td>Schedule</td>\n",
              "      <td>1900-01-01 05:19:00</td>\n",
              "      <td>1900-01-01 05:21:20</td>\n",
              "      <td>NaN</td>\n",
              "      <td>NaN</td>\n",
              "    </tr>\n",
              "    <tr>\n",
              "      <th>1</th>\n",
              "      <td>2019-04-01</td>\n",
              "      <td>01</td>\n",
              "      <td>Inbound</td>\n",
              "      <td>42976988.0</td>\n",
              "      <td>79</td>\n",
              "      <td>hynes</td>\n",
              "      <td>5.0</td>\n",
              "      <td>Midpoint</td>\n",
              "      <td>Schedule</td>\n",
              "      <td>1900-01-01 05:23:00</td>\n",
              "      <td>1900-01-01 05:24:17</td>\n",
              "      <td>NaN</td>\n",
              "      <td>NaN</td>\n",
              "    </tr>\n",
              "    <tr>\n",
              "      <th>2</th>\n",
              "      <td>2019-04-01</td>\n",
              "      <td>01</td>\n",
              "      <td>Inbound</td>\n",
              "      <td>42976988.0</td>\n",
              "      <td>187</td>\n",
              "      <td>masta</td>\n",
              "      <td>6.0</td>\n",
              "      <td>Midpoint</td>\n",
              "      <td>Schedule</td>\n",
              "      <td>1900-01-01 05:25:00</td>\n",
              "      <td>1900-01-01 05:26:05</td>\n",
              "      <td>NaN</td>\n",
              "      <td>NaN</td>\n",
              "    </tr>\n",
              "    <tr>\n",
              "      <th>3</th>\n",
              "      <td>2019-04-01</td>\n",
              "      <td>01</td>\n",
              "      <td>Inbound</td>\n",
              "      <td>42976988.0</td>\n",
              "      <td>59</td>\n",
              "      <td>Wasma</td>\n",
              "      <td>7.0</td>\n",
              "      <td>Midpoint</td>\n",
              "      <td>Schedule</td>\n",
              "      <td>1900-01-01 05:29:00</td>\n",
              "      <td>1900-01-01 05:27:59</td>\n",
              "      <td>NaN</td>\n",
              "      <td>NaN</td>\n",
              "    </tr>\n",
              "    <tr>\n",
              "      <th>4</th>\n",
              "      <td>2019-04-01</td>\n",
              "      <td>01</td>\n",
              "      <td>Inbound</td>\n",
              "      <td>42977170.0</td>\n",
              "      <td>110</td>\n",
              "      <td>hhgat</td>\n",
              "      <td>1.0</td>\n",
              "      <td>Startpoint</td>\n",
              "      <td>Headway</td>\n",
              "      <td>1900-01-01 05:30:00</td>\n",
              "      <td>1900-01-01 05:29:55</td>\n",
              "      <td>1200.0</td>\n",
              "      <td>1230.0</td>\n",
              "    </tr>\n",
              "    <tr>\n",
              "      <th>...</th>\n",
              "      <td>...</td>\n",
              "      <td>...</td>\n",
              "      <td>...</td>\n",
              "      <td>...</td>\n",
              "      <td>...</td>\n",
              "      <td>...</td>\n",
              "      <td>...</td>\n",
              "      <td>...</td>\n",
              "      <td>...</td>\n",
              "      <td>...</td>\n",
              "      <td>...</td>\n",
              "      <td>...</td>\n",
              "      <td>...</td>\n",
              "    </tr>\n",
              "    <tr>\n",
              "      <th>7670643</th>\n",
              "      <td>2019-06-30</td>\n",
              "      <td>SL5</td>\n",
              "      <td>Outbound</td>\n",
              "      <td>44045095.0</td>\n",
              "      <td>15176</td>\n",
              "      <td>mawor</td>\n",
              "      <td>8.0</td>\n",
              "      <td>Midpoint</td>\n",
              "      <td>Headway</td>\n",
              "      <td>1900-01-02 00:54:00</td>\n",
              "      <td>NaN</td>\n",
              "      <td>900.0</td>\n",
              "      <td>NaN</td>\n",
              "    </tr>\n",
              "    <tr>\n",
              "      <th>7670644</th>\n",
              "      <td>2019-06-30</td>\n",
              "      <td>SL5</td>\n",
              "      <td>Outbound</td>\n",
              "      <td>44045095.0</td>\n",
              "      <td>55</td>\n",
              "      <td>Wasma</td>\n",
              "      <td>9.0</td>\n",
              "      <td>Midpoint</td>\n",
              "      <td>Headway</td>\n",
              "      <td>1900-01-02 00:55:00</td>\n",
              "      <td>NaN</td>\n",
              "      <td>900.0</td>\n",
              "      <td>NaN</td>\n",
              "    </tr>\n",
              "    <tr>\n",
              "      <th>7670645</th>\n",
              "      <td>2019-06-30</td>\n",
              "      <td>SL5</td>\n",
              "      <td>Outbound</td>\n",
              "      <td>44045095.0</td>\n",
              "      <td>60</td>\n",
              "      <td>Walen</td>\n",
              "      <td>10.0</td>\n",
              "      <td>Midpoint</td>\n",
              "      <td>Headway</td>\n",
              "      <td>1900-01-02 00:56:00</td>\n",
              "      <td>NaN</td>\n",
              "      <td>900.0</td>\n",
              "      <td>NaN</td>\n",
              "    </tr>\n",
              "    <tr>\n",
              "      <th>7670646</th>\n",
              "      <td>2019-06-30</td>\n",
              "      <td>SL5</td>\n",
              "      <td>Outbound</td>\n",
              "      <td>44045095.0</td>\n",
              "      <td>61</td>\n",
              "      <td>Melwa</td>\n",
              "      <td>11.0</td>\n",
              "      <td>Midpoint</td>\n",
              "      <td>Headway</td>\n",
              "      <td>1900-01-02 00:57:00</td>\n",
              "      <td>NaN</td>\n",
              "      <td>900.0</td>\n",
              "      <td>NaN</td>\n",
              "    </tr>\n",
              "    <tr>\n",
              "      <th>7670647</th>\n",
              "      <td>2019-06-30</td>\n",
              "      <td>SL5</td>\n",
              "      <td>Outbound</td>\n",
              "      <td>44045095.0</td>\n",
              "      <td>64</td>\n",
              "      <td>Dudly</td>\n",
              "      <td>12.0</td>\n",
              "      <td>Endpoint</td>\n",
              "      <td>Headway</td>\n",
              "      <td>1900-01-02 00:58:00</td>\n",
              "      <td>NaN</td>\n",
              "      <td>900.0</td>\n",
              "      <td>NaN</td>\n",
              "    </tr>\n",
              "  </tbody>\n",
              "</table>\n",
              "<p>7670648 rows × 13 columns</p>\n",
              "</div>"
            ]
          },
          "metadata": {
            "tags": []
          },
          "execution_count": 20
        }
      ]
    },
    {
      "cell_type": "markdown",
      "metadata": {
        "id": "edvT1WvCpS_p"
      },
      "source": [
        "## Utility functions"
      ]
    },
    {
      "cell_type": "code",
      "metadata": {
        "id": "Fnw6tgSDNsht"
      },
      "source": [
        "def filter_on_row_col(df, target_rows, target_columns):\n",
        "  for key, value in target_rows:\n",
        "      df.drop(df[df[key] != value].index, inplace=True)\n",
        "  df.drop(df.columns.difference(target_columns), axis=1, inplace=True)\n",
        "\n",
        "def load_targets_from_csvs(target_columns, target_rows):\n",
        "  bus_arrival_files = glob.glob('./*.csv')\n",
        "\n",
        "  df_cumulative = pd.DataFrame()\n",
        "  for f in bus_arrival_files:\n",
        "    df_tmp = pd.read_csv(f)\n",
        "    filter_on_row_col(df_tmp, target_rows, target_columns)\n",
        "    df_cumulative = df_cumulative.append(df_tmp)\n",
        "    print(f\"Loaded {f}\")\n",
        "    del df_tmp\n",
        "\n",
        "  return df_cumulative"
      ],
      "execution_count": 21,
      "outputs": []
    },
    {
      "cell_type": "markdown",
      "metadata": {
        "id": "XVRA0d9znviM"
      },
      "source": [
        "# EDA on Routes Timeliness"
      ]
    },
    {
      "cell_type": "code",
      "metadata": {
        "id": "pbEo3jNJiav0",
        "colab": {
          "base_uri": "https://localhost:8080/"
        },
        "outputId": "388582b3-6857-4745-f97e-5169a41f6e92"
      },
      "source": [
        "df2 = load_targets_from_csvs(target_columns=['route_id','direction','stop_id'], target_rows=[])"
      ],
      "execution_count": 22,
      "outputs": [
        {
          "output_type": "stream",
          "text": [
            "Loaded .\\MBTA Bus Arrival Departure Apr-June 2019.csv\n",
            "Loaded .\\MBTA Bus Arrival Departure Aug-Sept 2018.csv\n",
            "Loaded .\\MBTA Bus Arrival Departure Jan-Mar 2019.csv\n",
            "Loaded .\\MBTA Bus Arrival Departure Jul-Sept 2019.csv\n",
            "Loaded .\\MBTA Bus Arrival Departure Oct-Dec 2018.csv\n",
            "Loaded .\\MBTA Bus Arrival Departure Oct-Dec 2019.csv\n"
          ],
          "name": "stdout"
        }
      ]
    },
    {
      "cell_type": "code",
      "metadata": {
        "id": "Yl_obRqCwpXu"
      },
      "source": [
        "# Calculate visits per stop\n",
        "group = df2[['route_id','direction','stop_id']].groupby(['route_id','direction'])\n",
        "unique_stops = group.nunique().rename(columns={\"stop_id\":\"unique_stop_ids\"})\n",
        "total_stops = pd.DataFrame(group.size()).rename(columns={0:\"total_stops\"})\n",
        "stops = pd.merge(unique_stops, total_stops, left_index=True, right_index=True)\n",
        "stops['visits_per_stop'] = stops['total_stops'] / stops['unique_stop_ids']"
      ],
      "execution_count": 23,
      "outputs": []
    },
    {
      "cell_type": "code",
      "metadata": {
        "id": "do69-_YPR4C0",
        "colab": {
          "base_uri": "https://localhost:8080/",
          "height": 700
        },
        "outputId": "c3e7c646-4455-4356-defd-db51c6671755"
      },
      "source": [
        "stops.sort_values('visits_per_stop', ascending=False).head(20)"
      ],
      "execution_count": 24,
      "outputs": [
        {
          "output_type": "execute_result",
          "data": {
            "text/plain": [
              "                    unique_stop_ids  total_stops  visits_per_stop\n",
              "route_id direction                                               \n",
              "SL5      Outbound                12       814194     67849.500000\n",
              "         Inbound                 13       872944     67149.538462\n",
              "111      Inbound                 12       777438     64786.500000\n",
              "SL1      Outbound                 7       448292     64041.714286\n",
              "31       Outbound                 5       304750     60950.000000\n",
              "         Inbound                  5       300727     60145.400000\n",
              "SL2      Outbound                 6       345890     57648.333333\n",
              "         Inbound                  6       335191     55865.166667\n",
              "111      Outbound                13       718718     55286.000000\n",
              "23       Inbound                 10       549635     54963.500000\n",
              "SL1      Inbound                 13       709980     54613.846154\n",
              "01       Outbound                 9       488393     54265.888889\n",
              "         Inbound                  9       472691     52521.222222\n",
              "39       Inbound                 11       561718     51065.272727\n",
              "28       Inbound                 11       552235     50203.181818\n",
              "39       Outbound                10       496903     49690.300000\n",
              "743      Outbound                11       544599     49509.000000\n",
              "77       Outbound                11       538967     48997.000000\n",
              "         Inbound                 11       536599     48781.727273\n",
              "23       Outbound                12       548555     45712.916667"
            ],
            "text/html": [
              "<div>\n",
              "<style scoped>\n",
              "    .dataframe tbody tr th:only-of-type {\n",
              "        vertical-align: middle;\n",
              "    }\n",
              "\n",
              "    .dataframe tbody tr th {\n",
              "        vertical-align: top;\n",
              "    }\n",
              "\n",
              "    .dataframe thead th {\n",
              "        text-align: right;\n",
              "    }\n",
              "</style>\n",
              "<table border=\"1\" class=\"dataframe\">\n",
              "  <thead>\n",
              "    <tr style=\"text-align: right;\">\n",
              "      <th></th>\n",
              "      <th></th>\n",
              "      <th>unique_stop_ids</th>\n",
              "      <th>total_stops</th>\n",
              "      <th>visits_per_stop</th>\n",
              "    </tr>\n",
              "    <tr>\n",
              "      <th>route_id</th>\n",
              "      <th>direction</th>\n",
              "      <th></th>\n",
              "      <th></th>\n",
              "      <th></th>\n",
              "    </tr>\n",
              "  </thead>\n",
              "  <tbody>\n",
              "    <tr>\n",
              "      <th rowspan=\"2\" valign=\"top\">SL5</th>\n",
              "      <th>Outbound</th>\n",
              "      <td>12</td>\n",
              "      <td>814194</td>\n",
              "      <td>67849.500000</td>\n",
              "    </tr>\n",
              "    <tr>\n",
              "      <th>Inbound</th>\n",
              "      <td>13</td>\n",
              "      <td>872944</td>\n",
              "      <td>67149.538462</td>\n",
              "    </tr>\n",
              "    <tr>\n",
              "      <th>111</th>\n",
              "      <th>Inbound</th>\n",
              "      <td>12</td>\n",
              "      <td>777438</td>\n",
              "      <td>64786.500000</td>\n",
              "    </tr>\n",
              "    <tr>\n",
              "      <th>SL1</th>\n",
              "      <th>Outbound</th>\n",
              "      <td>7</td>\n",
              "      <td>448292</td>\n",
              "      <td>64041.714286</td>\n",
              "    </tr>\n",
              "    <tr>\n",
              "      <th rowspan=\"2\" valign=\"top\">31</th>\n",
              "      <th>Outbound</th>\n",
              "      <td>5</td>\n",
              "      <td>304750</td>\n",
              "      <td>60950.000000</td>\n",
              "    </tr>\n",
              "    <tr>\n",
              "      <th>Inbound</th>\n",
              "      <td>5</td>\n",
              "      <td>300727</td>\n",
              "      <td>60145.400000</td>\n",
              "    </tr>\n",
              "    <tr>\n",
              "      <th rowspan=\"2\" valign=\"top\">SL2</th>\n",
              "      <th>Outbound</th>\n",
              "      <td>6</td>\n",
              "      <td>345890</td>\n",
              "      <td>57648.333333</td>\n",
              "    </tr>\n",
              "    <tr>\n",
              "      <th>Inbound</th>\n",
              "      <td>6</td>\n",
              "      <td>335191</td>\n",
              "      <td>55865.166667</td>\n",
              "    </tr>\n",
              "    <tr>\n",
              "      <th>111</th>\n",
              "      <th>Outbound</th>\n",
              "      <td>13</td>\n",
              "      <td>718718</td>\n",
              "      <td>55286.000000</td>\n",
              "    </tr>\n",
              "    <tr>\n",
              "      <th>23</th>\n",
              "      <th>Inbound</th>\n",
              "      <td>10</td>\n",
              "      <td>549635</td>\n",
              "      <td>54963.500000</td>\n",
              "    </tr>\n",
              "    <tr>\n",
              "      <th>SL1</th>\n",
              "      <th>Inbound</th>\n",
              "      <td>13</td>\n",
              "      <td>709980</td>\n",
              "      <td>54613.846154</td>\n",
              "    </tr>\n",
              "    <tr>\n",
              "      <th rowspan=\"2\" valign=\"top\">01</th>\n",
              "      <th>Outbound</th>\n",
              "      <td>9</td>\n",
              "      <td>488393</td>\n",
              "      <td>54265.888889</td>\n",
              "    </tr>\n",
              "    <tr>\n",
              "      <th>Inbound</th>\n",
              "      <td>9</td>\n",
              "      <td>472691</td>\n",
              "      <td>52521.222222</td>\n",
              "    </tr>\n",
              "    <tr>\n",
              "      <th>39</th>\n",
              "      <th>Inbound</th>\n",
              "      <td>11</td>\n",
              "      <td>561718</td>\n",
              "      <td>51065.272727</td>\n",
              "    </tr>\n",
              "    <tr>\n",
              "      <th>28</th>\n",
              "      <th>Inbound</th>\n",
              "      <td>11</td>\n",
              "      <td>552235</td>\n",
              "      <td>50203.181818</td>\n",
              "    </tr>\n",
              "    <tr>\n",
              "      <th>39</th>\n",
              "      <th>Outbound</th>\n",
              "      <td>10</td>\n",
              "      <td>496903</td>\n",
              "      <td>49690.300000</td>\n",
              "    </tr>\n",
              "    <tr>\n",
              "      <th>743</th>\n",
              "      <th>Outbound</th>\n",
              "      <td>11</td>\n",
              "      <td>544599</td>\n",
              "      <td>49509.000000</td>\n",
              "    </tr>\n",
              "    <tr>\n",
              "      <th rowspan=\"2\" valign=\"top\">77</th>\n",
              "      <th>Outbound</th>\n",
              "      <td>11</td>\n",
              "      <td>538967</td>\n",
              "      <td>48997.000000</td>\n",
              "    </tr>\n",
              "    <tr>\n",
              "      <th>Inbound</th>\n",
              "      <td>11</td>\n",
              "      <td>536599</td>\n",
              "      <td>48781.727273</td>\n",
              "    </tr>\n",
              "    <tr>\n",
              "      <th>23</th>\n",
              "      <th>Outbound</th>\n",
              "      <td>12</td>\n",
              "      <td>548555</td>\n",
              "      <td>45712.916667</td>\n",
              "    </tr>\n",
              "  </tbody>\n",
              "</table>\n",
              "</div>"
            ]
          },
          "metadata": {
            "tags": []
          },
          "execution_count": 24
        }
      ]
    },
    {
      "cell_type": "markdown",
      "metadata": {
        "id": "Okxys39wOPnO"
      },
      "source": [
        "# Preprocess data"
      ]
    },
    {
      "cell_type": "markdown",
      "metadata": {
        "id": "5L9NJEyJvnsm"
      },
      "source": [
        "Loading the data for a single route and a single direction"
      ]
    },
    {
      "cell_type": "code",
      "metadata": {
        "colab": {
          "base_uri": "https://localhost:8080/"
        },
        "id": "7licb-NaQtt7",
        "outputId": "5b7ece5c-56a1-42ee-9945-4ca22bb74a71"
      },
      "source": [
        "target_columns = [\"service_date\", \"half_trip_id\", \"stop_id\", \"stop_sequence\", \"scheduled\", \"actual\"]\n",
        "target_rows = [('route_id', '01'),('direction', 'Inbound')]\n",
        "df3 = load_targets_from_csvs(target_columns, target_rows)"
      ],
      "execution_count": 25,
      "outputs": [
        {
          "output_type": "stream",
          "text": [
            "Loaded .\\MBTA Bus Arrival Departure Apr-June 2019.csv\n",
            "Loaded .\\MBTA Bus Arrival Departure Aug-Sept 2018.csv\n",
            "Loaded .\\MBTA Bus Arrival Departure Jan-Mar 2019.csv\n",
            "Loaded .\\MBTA Bus Arrival Departure Jul-Sept 2019.csv\n",
            "Loaded .\\MBTA Bus Arrival Departure Oct-Dec 2018.csv\n",
            "Loaded .\\MBTA Bus Arrival Departure Oct-Dec 2019.csv\n"
          ],
          "name": "stdout"
        }
      ]
    },
    {
      "cell_type": "markdown",
      "metadata": {
        "id": "AE-mv9rHvdJG"
      },
      "source": [
        "Comment:\n",
        "stop_id and stop_sequence are not always consistent in the dataframe!"
      ]
    },
    {
      "cell_type": "code",
      "metadata": {
        "colab": {
          "base_uri": "https://localhost:8080/"
        },
        "id": "tKC7sfAdtz44",
        "outputId": "265ca486-7463-44d3-b29a-4f7f0e71937b"
      },
      "source": [
        "group = df3.groupby(by=['stop_id', 'stop_sequence']).size()\n",
        "print(group)"
      ],
      "execution_count": 26,
      "outputs": [
        {
          "output_type": "stream",
          "text": [
            "stop_id  stop_sequence\n",
            "59       5.0                  1\n",
            "         6.0                  3\n",
            "         7.0              42083\n",
            "62       1.0                  2\n",
            "         6.0                  1\n",
            "         7.0                  3\n",
            "         8.0              42080\n",
            "64       1.0                180\n",
            "         2.0                  2\n",
            "         7.0                  1\n",
            "         8.0                  3\n",
            "         9.0              42079\n",
            "67       1.0                  3\n",
            "         2.0              42069\n",
            "72       1.0                  1\n",
            "         2.0                  3\n",
            "         3.0              42069\n",
            "75       2.0                  1\n",
            "         3.0                  3\n",
            "         4.0              42083\n",
            "79       3.0                  1\n",
            "         4.0                  3\n",
            "         5.0              42083\n",
            "110      1.0              42070\n",
            "187      4.0                  1\n",
            "         5.0                  3\n",
            "         6.0              42083\n",
            "dtype: int64\n"
          ],
          "name": "stdout"
        }
      ]
    },
    {
      "cell_type": "markdown",
      "metadata": {
        "id": "OjsrNYnOlGLw"
      },
      "source": [
        "Create a definition of valid stop IDs, based on the frequency of occurence"
      ]
    },
    {
      "cell_type": "code",
      "metadata": {
        "colab": {
          "base_uri": "https://localhost:8080/"
        },
        "id": "C76Xy7b8lBor",
        "outputId": "f47b9c75-7ccb-440d-aa58-5de6def0a551"
      },
      "source": [
        "valid_stop_ids = group[group > group.max()/2]\n",
        "sequence_to_id = valid_stop_ids.index.to_frame().reset_index(drop=True).sort_values(['stop_sequence']).set_index(['stop_id'])\n",
        "print(sequence_to_id)\n",
        "sequence_to_id = sequence_to_id['stop_sequence'].to_dict()"
      ],
      "execution_count": 27,
      "outputs": [
        {
          "output_type": "stream",
          "text": [
            "         stop_sequence\n",
            "stop_id               \n",
            "110                1.0\n",
            "67                 2.0\n",
            "72                 3.0\n",
            "75                 4.0\n",
            "79                 5.0\n",
            "187                6.0\n",
            "59                 7.0\n",
            "62                 8.0\n",
            "64                 9.0\n"
          ],
          "name": "stdout"
        }
      ]
    },
    {
      "cell_type": "markdown",
      "metadata": {
        "id": "zchzJAiuu-Xk"
      },
      "source": [
        "Drop invalid (out of sequence) stop IDs"
      ]
    },
    {
      "cell_type": "code",
      "metadata": {
        "id": "96uztm1tteHV"
      },
      "source": [
        "df3['expected_stop_sequence'] = df3['stop_id'].apply(lambda x: sequence_to_id[x])\n",
        "df3.drop(df3[((df3['expected_stop_sequence'] != df3['stop_sequence']) | (df3['stop_sequence'].isna()))].index, axis=0, inplace=True)\n",
        "df3.drop('expected_stop_sequence', axis=1, inplace=True)"
      ],
      "execution_count": 28,
      "outputs": []
    },
    {
      "cell_type": "markdown",
      "metadata": {
        "id": "Wg6Jjryx8fmV"
      },
      "source": [
        "Pivot data frame"
      ]
    },
    {
      "cell_type": "code",
      "metadata": {
        "id": "RJI0nQedizFa"
      },
      "source": [
        "df4 = df3.pivot(index=['service_date', 'half_trip_id'], columns=['stop_sequence'], values=['scheduled',\t'actual'])"
      ],
      "execution_count": 33,
      "outputs": []
    },
    {
      "cell_type": "markdown",
      "metadata": {
        "id": "AWvOUOCN0YbU"
      },
      "source": [
        "Drop incomplete routes"
      ]
    },
    {
      "cell_type": "code",
      "metadata": {
        "id": "_EQOsrLwXaT4"
      },
      "source": [
        "df5 = df4[df4.isna().sum(axis=1) == 0]"
      ],
      "execution_count": 40,
      "outputs": []
    },
    {
      "cell_type": "markdown",
      "metadata": {
        "id": "wdVk5wJOP62K"
      },
      "source": [
        "## Transform data"
      ]
    },
    {
      "cell_type": "code",
      "metadata": {
        "id": "eKZY00c8P_QY",
        "outputId": "555ca020-d473-4e06-fc83-3d62b2c3fcf5",
        "colab": {
          "base_uri": "https://localhost:8080/",
          "height": 651
        }
      },
      "source": [
        "# Transform to datetime\n",
        "time_format = '%Y-%m-%d %H:%M:%S'\n",
        "df5 = df5.applymap(lambda x: datetime.datetime.strptime(x, time_format))\n",
        "df5"
      ],
      "execution_count": 41,
      "outputs": [
        {
          "output_type": "execute_result",
          "data": {
            "text/plain": [
              "                                    scheduled                      \\\n",
              "stop_sequence                             1.0                 2.0   \n",
              "service_date half_trip_id                                           \n",
              "2018-08-02   40135101.0   1900-01-01 05:10:00 1900-01-01 05:13:00   \n",
              "             40135103.0   1900-01-01 06:21:00 1900-01-01 06:24:00   \n",
              "             40135105.0   1900-01-01 07:44:00 1900-01-01 07:49:00   \n",
              "             40135121.0   1900-01-01 07:06:00 1900-01-01 07:10:00   \n",
              "             40135155.0   1900-01-01 06:06:00 1900-01-01 06:09:00   \n",
              "...                                       ...                 ...   \n",
              "2019-09-30   45106583.0   1900-01-01 16:24:00 1900-01-01 16:29:00   \n",
              "             45106585.0   1900-01-01 18:33:00 1900-01-01 18:38:00   \n",
              "             45106587.0   1900-01-01 20:11:00 1900-01-01 20:15:00   \n",
              "             45106589.0   1900-01-01 21:33:00 1900-01-01 21:37:00   \n",
              "             45108654.0   1900-01-01 18:18:00 1900-01-01 18:23:00   \n",
              "\n",
              "                                                                   \\\n",
              "stop_sequence                             3.0                 4.0   \n",
              "service_date half_trip_id                                           \n",
              "2018-08-02   40135101.0   1900-01-01 05:16:00 1900-01-01 05:19:00   \n",
              "             40135103.0   1900-01-01 06:27:00 1900-01-01 06:30:00   \n",
              "             40135105.0   1900-01-01 07:55:00 1900-01-01 08:00:00   \n",
              "             40135121.0   1900-01-01 07:13:00 1900-01-01 07:17:00   \n",
              "             40135155.0   1900-01-01 06:12:00 1900-01-01 06:15:00   \n",
              "...                                       ...                 ...   \n",
              "2019-09-30   45106583.0   1900-01-01 16:35:00 1900-01-01 16:42:00   \n",
              "             45106585.0   1900-01-01 18:44:00 1900-01-01 18:49:00   \n",
              "             45106587.0   1900-01-01 20:19:00 1900-01-01 20:24:00   \n",
              "             45106589.0   1900-01-01 21:41:00 1900-01-01 21:46:00   \n",
              "             45108654.0   1900-01-01 18:29:00 1900-01-01 18:36:00   \n",
              "\n",
              "                                                                   \\\n",
              "stop_sequence                             5.0                 6.0   \n",
              "service_date half_trip_id                                           \n",
              "2018-08-02   40135101.0   1900-01-01 05:22:00 1900-01-01 05:25:00   \n",
              "             40135103.0   1900-01-01 06:35:00 1900-01-01 06:39:00   \n",
              "             40135105.0   1900-01-01 08:05:00 1900-01-01 08:11:00   \n",
              "             40135121.0   1900-01-01 07:22:00 1900-01-01 07:26:00   \n",
              "             40135155.0   1900-01-01 06:18:00 1900-01-01 06:21:00   \n",
              "...                                       ...                 ...   \n",
              "2019-09-30   45106583.0   1900-01-01 16:51:00 1900-01-01 16:59:00   \n",
              "             45106585.0   1900-01-01 18:56:00 1900-01-01 19:02:00   \n",
              "             45106587.0   1900-01-01 20:29:00 1900-01-01 20:34:00   \n",
              "             45106589.0   1900-01-01 21:51:00 1900-01-01 21:56:00   \n",
              "             45108654.0   1900-01-01 18:45:00 1900-01-01 18:51:00   \n",
              "\n",
              "                                                                   \\\n",
              "stop_sequence                             7.0                 8.0   \n",
              "service_date half_trip_id                                           \n",
              "2018-08-02   40135101.0   1900-01-01 05:28:00 1900-01-01 05:32:00   \n",
              "             40135103.0   1900-01-01 06:42:00 1900-01-01 06:49:00   \n",
              "             40135105.0   1900-01-01 08:16:00 1900-01-01 08:24:00   \n",
              "             40135121.0   1900-01-01 07:29:00 1900-01-01 07:37:00   \n",
              "             40135155.0   1900-01-01 06:24:00 1900-01-01 06:28:00   \n",
              "...                                       ...                 ...   \n",
              "2019-09-30   45106583.0   1900-01-01 17:05:00 1900-01-01 17:13:00   \n",
              "             45106585.0   1900-01-01 19:07:00 1900-01-01 19:12:00   \n",
              "             45106587.0   1900-01-01 20:38:00 1900-01-01 20:42:00   \n",
              "             45106589.0   1900-01-01 22:00:00 1900-01-01 22:04:00   \n",
              "             45108654.0   1900-01-01 18:56:00 1900-01-01 19:01:00   \n",
              "\n",
              "                                                           actual  \\\n",
              "stop_sequence                             9.0                 1.0   \n",
              "service_date half_trip_id                                           \n",
              "2018-08-02   40135101.0   1900-01-01 05:33:00 1900-01-01 05:11:45   \n",
              "             40135103.0   1900-01-01 06:50:00 1900-01-01 06:21:20   \n",
              "             40135105.0   1900-01-01 08:25:00 1900-01-01 07:43:31   \n",
              "             40135121.0   1900-01-01 07:38:00 1900-01-01 07:05:58   \n",
              "             40135155.0   1900-01-01 06:29:00 1900-01-01 06:06:32   \n",
              "...                                       ...                 ...   \n",
              "2019-09-30   45106583.0   1900-01-01 17:20:00 1900-01-01 16:24:06   \n",
              "             45106585.0   1900-01-01 19:18:00 1900-01-01 18:29:15   \n",
              "             45106587.0   1900-01-01 20:46:00 1900-01-01 20:10:22   \n",
              "             45106589.0   1900-01-01 22:08:00 1900-01-01 21:31:41   \n",
              "             45108654.0   1900-01-01 19:07:00 1900-01-01 18:18:29   \n",
              "\n",
              "                                                                   \\\n",
              "stop_sequence                             2.0                 3.0   \n",
              "service_date half_trip_id                                           \n",
              "2018-08-02   40135101.0   1900-01-01 05:15:31 1900-01-01 05:18:40   \n",
              "             40135103.0   1900-01-01 06:26:35 1900-01-01 06:29:44   \n",
              "             40135105.0   1900-01-01 07:50:45 1900-01-01 07:58:47   \n",
              "             40135121.0   1900-01-01 07:11:33 1900-01-01 07:16:09   \n",
              "             40135155.0   1900-01-01 06:10:19 1900-01-01 06:13:58   \n",
              "...                                       ...                 ...   \n",
              "2019-09-30   45106583.0   1900-01-01 16:30:21 1900-01-01 16:38:51   \n",
              "             45106585.0   1900-01-01 18:35:19 1900-01-01 18:40:59   \n",
              "             45106587.0   1900-01-01 20:15:49 1900-01-01 20:20:23   \n",
              "             45106589.0   1900-01-01 21:36:45 1900-01-01 21:40:10   \n",
              "             45108654.0   1900-01-01 18:26:32 1900-01-01 18:30:58   \n",
              "\n",
              "                                                                   \\\n",
              "stop_sequence                             4.0                 5.0   \n",
              "service_date half_trip_id                                           \n",
              "2018-08-02   40135101.0   1900-01-01 05:23:17 1900-01-01 05:27:18   \n",
              "             40135103.0   1900-01-01 06:33:44 1900-01-01 06:37:34   \n",
              "             40135105.0   1900-01-01 08:05:57 1900-01-01 08:16:15   \n",
              "             40135121.0   1900-01-01 07:21:40 1900-01-01 07:26:39   \n",
              "             40135155.0   1900-01-01 06:18:04 1900-01-01 06:24:12   \n",
              "...                                       ...                 ...   \n",
              "2019-09-30   45106583.0   1900-01-01 16:45:55 1900-01-01 16:53:18   \n",
              "             45106585.0   1900-01-01 18:45:21 1900-01-01 18:52:06   \n",
              "             45106587.0   1900-01-01 20:25:19 1900-01-01 20:30:12   \n",
              "             45106589.0   1900-01-01 21:45:06 1900-01-01 21:49:03   \n",
              "             45108654.0   1900-01-01 18:37:36 1900-01-01 18:42:02   \n",
              "\n",
              "                                                                   \\\n",
              "stop_sequence                             6.0                 7.0   \n",
              "service_date half_trip_id                                           \n",
              "2018-08-02   40135101.0   1900-01-01 05:29:26 1900-01-01 05:33:52   \n",
              "             40135103.0   1900-01-01 06:41:52 1900-01-01 06:44:50   \n",
              "             40135105.0   1900-01-01 08:21:31 1900-01-01 08:25:16   \n",
              "             40135121.0   1900-01-01 07:31:13 1900-01-01 07:34:58   \n",
              "             40135155.0   1900-01-01 06:30:14 1900-01-01 06:32:30   \n",
              "...                                       ...                 ...   \n",
              "2019-09-30   45106583.0   1900-01-01 16:59:24 1900-01-01 17:06:36   \n",
              "             45106585.0   1900-01-01 18:57:00 1900-01-01 19:02:33   \n",
              "             45106587.0   1900-01-01 20:36:50 1900-01-01 20:40:59   \n",
              "             45106589.0   1900-01-01 21:51:46 1900-01-01 21:56:42   \n",
              "             45108654.0   1900-01-01 18:46:40 1900-01-01 18:52:35   \n",
              "\n",
              "                                                                   \n",
              "stop_sequence                             8.0                 9.0  \n",
              "service_date half_trip_id                                          \n",
              "2018-08-02   40135101.0   1900-01-01 05:37:17 1900-01-01 05:37:40  \n",
              "             40135103.0   1900-01-01 06:50:07 1900-01-01 06:50:37  \n",
              "             40135105.0   1900-01-01 08:36:05 1900-01-01 08:37:11  \n",
              "             40135121.0   1900-01-01 07:42:13 1900-01-01 07:43:01  \n",
              "             40135155.0   1900-01-01 06:40:49 1900-01-01 06:41:32  \n",
              "...                                       ...                 ...  \n",
              "2019-09-30   45106583.0   1900-01-01 17:15:47 1900-01-01 17:16:36  \n",
              "             45106585.0   1900-01-01 19:08:32 1900-01-01 19:09:43  \n",
              "             45106587.0   1900-01-01 20:45:23 1900-01-01 20:45:59  \n",
              "             45106589.0   1900-01-01 22:00:03 1900-01-01 22:00:24  \n",
              "             45108654.0   1900-01-01 19:00:40 1900-01-01 19:01:43  \n",
              "\n",
              "[37203 rows x 18 columns]"
            ],
            "text/html": [
              "<div>\n",
              "<style scoped>\n",
              "    .dataframe tbody tr th:only-of-type {\n",
              "        vertical-align: middle;\n",
              "    }\n",
              "\n",
              "    .dataframe tbody tr th {\n",
              "        vertical-align: top;\n",
              "    }\n",
              "\n",
              "    .dataframe thead tr th {\n",
              "        text-align: left;\n",
              "    }\n",
              "\n",
              "    .dataframe thead tr:last-of-type th {\n",
              "        text-align: right;\n",
              "    }\n",
              "</style>\n",
              "<table border=\"1\" class=\"dataframe\">\n",
              "  <thead>\n",
              "    <tr>\n",
              "      <th></th>\n",
              "      <th></th>\n",
              "      <th colspan=\"9\" halign=\"left\">scheduled</th>\n",
              "      <th colspan=\"9\" halign=\"left\">actual</th>\n",
              "    </tr>\n",
              "    <tr>\n",
              "      <th></th>\n",
              "      <th>stop_sequence</th>\n",
              "      <th>1.0</th>\n",
              "      <th>2.0</th>\n",
              "      <th>3.0</th>\n",
              "      <th>4.0</th>\n",
              "      <th>5.0</th>\n",
              "      <th>6.0</th>\n",
              "      <th>7.0</th>\n",
              "      <th>8.0</th>\n",
              "      <th>9.0</th>\n",
              "      <th>1.0</th>\n",
              "      <th>2.0</th>\n",
              "      <th>3.0</th>\n",
              "      <th>4.0</th>\n",
              "      <th>5.0</th>\n",
              "      <th>6.0</th>\n",
              "      <th>7.0</th>\n",
              "      <th>8.0</th>\n",
              "      <th>9.0</th>\n",
              "    </tr>\n",
              "    <tr>\n",
              "      <th>service_date</th>\n",
              "      <th>half_trip_id</th>\n",
              "      <th></th>\n",
              "      <th></th>\n",
              "      <th></th>\n",
              "      <th></th>\n",
              "      <th></th>\n",
              "      <th></th>\n",
              "      <th></th>\n",
              "      <th></th>\n",
              "      <th></th>\n",
              "      <th></th>\n",
              "      <th></th>\n",
              "      <th></th>\n",
              "      <th></th>\n",
              "      <th></th>\n",
              "      <th></th>\n",
              "      <th></th>\n",
              "      <th></th>\n",
              "      <th></th>\n",
              "    </tr>\n",
              "  </thead>\n",
              "  <tbody>\n",
              "    <tr>\n",
              "      <th rowspan=\"5\" valign=\"top\">2018-08-02</th>\n",
              "      <th>40135101.0</th>\n",
              "      <td>1900-01-01 05:10:00</td>\n",
              "      <td>1900-01-01 05:13:00</td>\n",
              "      <td>1900-01-01 05:16:00</td>\n",
              "      <td>1900-01-01 05:19:00</td>\n",
              "      <td>1900-01-01 05:22:00</td>\n",
              "      <td>1900-01-01 05:25:00</td>\n",
              "      <td>1900-01-01 05:28:00</td>\n",
              "      <td>1900-01-01 05:32:00</td>\n",
              "      <td>1900-01-01 05:33:00</td>\n",
              "      <td>1900-01-01 05:11:45</td>\n",
              "      <td>1900-01-01 05:15:31</td>\n",
              "      <td>1900-01-01 05:18:40</td>\n",
              "      <td>1900-01-01 05:23:17</td>\n",
              "      <td>1900-01-01 05:27:18</td>\n",
              "      <td>1900-01-01 05:29:26</td>\n",
              "      <td>1900-01-01 05:33:52</td>\n",
              "      <td>1900-01-01 05:37:17</td>\n",
              "      <td>1900-01-01 05:37:40</td>\n",
              "    </tr>\n",
              "    <tr>\n",
              "      <th>40135103.0</th>\n",
              "      <td>1900-01-01 06:21:00</td>\n",
              "      <td>1900-01-01 06:24:00</td>\n",
              "      <td>1900-01-01 06:27:00</td>\n",
              "      <td>1900-01-01 06:30:00</td>\n",
              "      <td>1900-01-01 06:35:00</td>\n",
              "      <td>1900-01-01 06:39:00</td>\n",
              "      <td>1900-01-01 06:42:00</td>\n",
              "      <td>1900-01-01 06:49:00</td>\n",
              "      <td>1900-01-01 06:50:00</td>\n",
              "      <td>1900-01-01 06:21:20</td>\n",
              "      <td>1900-01-01 06:26:35</td>\n",
              "      <td>1900-01-01 06:29:44</td>\n",
              "      <td>1900-01-01 06:33:44</td>\n",
              "      <td>1900-01-01 06:37:34</td>\n",
              "      <td>1900-01-01 06:41:52</td>\n",
              "      <td>1900-01-01 06:44:50</td>\n",
              "      <td>1900-01-01 06:50:07</td>\n",
              "      <td>1900-01-01 06:50:37</td>\n",
              "    </tr>\n",
              "    <tr>\n",
              "      <th>40135105.0</th>\n",
              "      <td>1900-01-01 07:44:00</td>\n",
              "      <td>1900-01-01 07:49:00</td>\n",
              "      <td>1900-01-01 07:55:00</td>\n",
              "      <td>1900-01-01 08:00:00</td>\n",
              "      <td>1900-01-01 08:05:00</td>\n",
              "      <td>1900-01-01 08:11:00</td>\n",
              "      <td>1900-01-01 08:16:00</td>\n",
              "      <td>1900-01-01 08:24:00</td>\n",
              "      <td>1900-01-01 08:25:00</td>\n",
              "      <td>1900-01-01 07:43:31</td>\n",
              "      <td>1900-01-01 07:50:45</td>\n",
              "      <td>1900-01-01 07:58:47</td>\n",
              "      <td>1900-01-01 08:05:57</td>\n",
              "      <td>1900-01-01 08:16:15</td>\n",
              "      <td>1900-01-01 08:21:31</td>\n",
              "      <td>1900-01-01 08:25:16</td>\n",
              "      <td>1900-01-01 08:36:05</td>\n",
              "      <td>1900-01-01 08:37:11</td>\n",
              "    </tr>\n",
              "    <tr>\n",
              "      <th>40135121.0</th>\n",
              "      <td>1900-01-01 07:06:00</td>\n",
              "      <td>1900-01-01 07:10:00</td>\n",
              "      <td>1900-01-01 07:13:00</td>\n",
              "      <td>1900-01-01 07:17:00</td>\n",
              "      <td>1900-01-01 07:22:00</td>\n",
              "      <td>1900-01-01 07:26:00</td>\n",
              "      <td>1900-01-01 07:29:00</td>\n",
              "      <td>1900-01-01 07:37:00</td>\n",
              "      <td>1900-01-01 07:38:00</td>\n",
              "      <td>1900-01-01 07:05:58</td>\n",
              "      <td>1900-01-01 07:11:33</td>\n",
              "      <td>1900-01-01 07:16:09</td>\n",
              "      <td>1900-01-01 07:21:40</td>\n",
              "      <td>1900-01-01 07:26:39</td>\n",
              "      <td>1900-01-01 07:31:13</td>\n",
              "      <td>1900-01-01 07:34:58</td>\n",
              "      <td>1900-01-01 07:42:13</td>\n",
              "      <td>1900-01-01 07:43:01</td>\n",
              "    </tr>\n",
              "    <tr>\n",
              "      <th>40135155.0</th>\n",
              "      <td>1900-01-01 06:06:00</td>\n",
              "      <td>1900-01-01 06:09:00</td>\n",
              "      <td>1900-01-01 06:12:00</td>\n",
              "      <td>1900-01-01 06:15:00</td>\n",
              "      <td>1900-01-01 06:18:00</td>\n",
              "      <td>1900-01-01 06:21:00</td>\n",
              "      <td>1900-01-01 06:24:00</td>\n",
              "      <td>1900-01-01 06:28:00</td>\n",
              "      <td>1900-01-01 06:29:00</td>\n",
              "      <td>1900-01-01 06:06:32</td>\n",
              "      <td>1900-01-01 06:10:19</td>\n",
              "      <td>1900-01-01 06:13:58</td>\n",
              "      <td>1900-01-01 06:18:04</td>\n",
              "      <td>1900-01-01 06:24:12</td>\n",
              "      <td>1900-01-01 06:30:14</td>\n",
              "      <td>1900-01-01 06:32:30</td>\n",
              "      <td>1900-01-01 06:40:49</td>\n",
              "      <td>1900-01-01 06:41:32</td>\n",
              "    </tr>\n",
              "    <tr>\n",
              "      <th>...</th>\n",
              "      <th>...</th>\n",
              "      <td>...</td>\n",
              "      <td>...</td>\n",
              "      <td>...</td>\n",
              "      <td>...</td>\n",
              "      <td>...</td>\n",
              "      <td>...</td>\n",
              "      <td>...</td>\n",
              "      <td>...</td>\n",
              "      <td>...</td>\n",
              "      <td>...</td>\n",
              "      <td>...</td>\n",
              "      <td>...</td>\n",
              "      <td>...</td>\n",
              "      <td>...</td>\n",
              "      <td>...</td>\n",
              "      <td>...</td>\n",
              "      <td>...</td>\n",
              "      <td>...</td>\n",
              "    </tr>\n",
              "    <tr>\n",
              "      <th rowspan=\"5\" valign=\"top\">2019-09-30</th>\n",
              "      <th>45106583.0</th>\n",
              "      <td>1900-01-01 16:24:00</td>\n",
              "      <td>1900-01-01 16:29:00</td>\n",
              "      <td>1900-01-01 16:35:00</td>\n",
              "      <td>1900-01-01 16:42:00</td>\n",
              "      <td>1900-01-01 16:51:00</td>\n",
              "      <td>1900-01-01 16:59:00</td>\n",
              "      <td>1900-01-01 17:05:00</td>\n",
              "      <td>1900-01-01 17:13:00</td>\n",
              "      <td>1900-01-01 17:20:00</td>\n",
              "      <td>1900-01-01 16:24:06</td>\n",
              "      <td>1900-01-01 16:30:21</td>\n",
              "      <td>1900-01-01 16:38:51</td>\n",
              "      <td>1900-01-01 16:45:55</td>\n",
              "      <td>1900-01-01 16:53:18</td>\n",
              "      <td>1900-01-01 16:59:24</td>\n",
              "      <td>1900-01-01 17:06:36</td>\n",
              "      <td>1900-01-01 17:15:47</td>\n",
              "      <td>1900-01-01 17:16:36</td>\n",
              "    </tr>\n",
              "    <tr>\n",
              "      <th>45106585.0</th>\n",
              "      <td>1900-01-01 18:33:00</td>\n",
              "      <td>1900-01-01 18:38:00</td>\n",
              "      <td>1900-01-01 18:44:00</td>\n",
              "      <td>1900-01-01 18:49:00</td>\n",
              "      <td>1900-01-01 18:56:00</td>\n",
              "      <td>1900-01-01 19:02:00</td>\n",
              "      <td>1900-01-01 19:07:00</td>\n",
              "      <td>1900-01-01 19:12:00</td>\n",
              "      <td>1900-01-01 19:18:00</td>\n",
              "      <td>1900-01-01 18:29:15</td>\n",
              "      <td>1900-01-01 18:35:19</td>\n",
              "      <td>1900-01-01 18:40:59</td>\n",
              "      <td>1900-01-01 18:45:21</td>\n",
              "      <td>1900-01-01 18:52:06</td>\n",
              "      <td>1900-01-01 18:57:00</td>\n",
              "      <td>1900-01-01 19:02:33</td>\n",
              "      <td>1900-01-01 19:08:32</td>\n",
              "      <td>1900-01-01 19:09:43</td>\n",
              "    </tr>\n",
              "    <tr>\n",
              "      <th>45106587.0</th>\n",
              "      <td>1900-01-01 20:11:00</td>\n",
              "      <td>1900-01-01 20:15:00</td>\n",
              "      <td>1900-01-01 20:19:00</td>\n",
              "      <td>1900-01-01 20:24:00</td>\n",
              "      <td>1900-01-01 20:29:00</td>\n",
              "      <td>1900-01-01 20:34:00</td>\n",
              "      <td>1900-01-01 20:38:00</td>\n",
              "      <td>1900-01-01 20:42:00</td>\n",
              "      <td>1900-01-01 20:46:00</td>\n",
              "      <td>1900-01-01 20:10:22</td>\n",
              "      <td>1900-01-01 20:15:49</td>\n",
              "      <td>1900-01-01 20:20:23</td>\n",
              "      <td>1900-01-01 20:25:19</td>\n",
              "      <td>1900-01-01 20:30:12</td>\n",
              "      <td>1900-01-01 20:36:50</td>\n",
              "      <td>1900-01-01 20:40:59</td>\n",
              "      <td>1900-01-01 20:45:23</td>\n",
              "      <td>1900-01-01 20:45:59</td>\n",
              "    </tr>\n",
              "    <tr>\n",
              "      <th>45106589.0</th>\n",
              "      <td>1900-01-01 21:33:00</td>\n",
              "      <td>1900-01-01 21:37:00</td>\n",
              "      <td>1900-01-01 21:41:00</td>\n",
              "      <td>1900-01-01 21:46:00</td>\n",
              "      <td>1900-01-01 21:51:00</td>\n",
              "      <td>1900-01-01 21:56:00</td>\n",
              "      <td>1900-01-01 22:00:00</td>\n",
              "      <td>1900-01-01 22:04:00</td>\n",
              "      <td>1900-01-01 22:08:00</td>\n",
              "      <td>1900-01-01 21:31:41</td>\n",
              "      <td>1900-01-01 21:36:45</td>\n",
              "      <td>1900-01-01 21:40:10</td>\n",
              "      <td>1900-01-01 21:45:06</td>\n",
              "      <td>1900-01-01 21:49:03</td>\n",
              "      <td>1900-01-01 21:51:46</td>\n",
              "      <td>1900-01-01 21:56:42</td>\n",
              "      <td>1900-01-01 22:00:03</td>\n",
              "      <td>1900-01-01 22:00:24</td>\n",
              "    </tr>\n",
              "    <tr>\n",
              "      <th>45108654.0</th>\n",
              "      <td>1900-01-01 18:18:00</td>\n",
              "      <td>1900-01-01 18:23:00</td>\n",
              "      <td>1900-01-01 18:29:00</td>\n",
              "      <td>1900-01-01 18:36:00</td>\n",
              "      <td>1900-01-01 18:45:00</td>\n",
              "      <td>1900-01-01 18:51:00</td>\n",
              "      <td>1900-01-01 18:56:00</td>\n",
              "      <td>1900-01-01 19:01:00</td>\n",
              "      <td>1900-01-01 19:07:00</td>\n",
              "      <td>1900-01-01 18:18:29</td>\n",
              "      <td>1900-01-01 18:26:32</td>\n",
              "      <td>1900-01-01 18:30:58</td>\n",
              "      <td>1900-01-01 18:37:36</td>\n",
              "      <td>1900-01-01 18:42:02</td>\n",
              "      <td>1900-01-01 18:46:40</td>\n",
              "      <td>1900-01-01 18:52:35</td>\n",
              "      <td>1900-01-01 19:00:40</td>\n",
              "      <td>1900-01-01 19:01:43</td>\n",
              "    </tr>\n",
              "  </tbody>\n",
              "</table>\n",
              "<p>37203 rows × 18 columns</p>\n",
              "</div>"
            ]
          },
          "metadata": {
            "tags": []
          },
          "execution_count": 41
        }
      ]
    },
    {
      "cell_type": "markdown",
      "metadata": {
        "id": "M9PXQiFvpsFL"
      },
      "source": [
        "# Training"
      ]
    },
    {
      "cell_type": "markdown",
      "metadata": {
        "id": "7GSTFcBjp3Ar"
      },
      "source": [
        "## TODO"
      ]
    },
    {
      "cell_type": "markdown",
      "metadata": {
        "id": "Af8O8FeopwfT"
      },
      "source": [
        "# Inference"
      ]
    },
    {
      "cell_type": "markdown",
      "metadata": {
        "id": "8CmvKw5Kp5xR"
      },
      "source": [
        "## TODO"
      ]
    }
  ]
}